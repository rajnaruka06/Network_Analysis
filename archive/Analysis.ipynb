{
 "cells": [
  {
   "cell_type": "code",
   "execution_count": 1,
   "metadata": {},
   "outputs": [],
   "source": [
    "import pandas as pd"
   ]
  },
  {
   "cell_type": "code",
   "execution_count": 2,
   "metadata": {},
   "outputs": [
    {
     "data": {
      "text/html": [
       "<div>\n",
       "<style scoped>\n",
       "    .dataframe tbody tr th:only-of-type {\n",
       "        vertical-align: middle;\n",
       "    }\n",
       "\n",
       "    .dataframe tbody tr th {\n",
       "        vertical-align: top;\n",
       "    }\n",
       "\n",
       "    .dataframe thead th {\n",
       "        text-align: right;\n",
       "    }\n",
       "</style>\n",
       "<table border=\"1\" class=\"dataframe\">\n",
       "  <thead>\n",
       "    <tr style=\"text-align: right;\">\n",
       "      <th></th>\n",
       "      <th>Source</th>\n",
       "      <th>Target</th>\n",
       "    </tr>\n",
       "  </thead>\n",
       "  <tbody>\n",
       "    <tr>\n",
       "      <th>0</th>\n",
       "      <td>Phillip Lozano</td>\n",
       "      <td>Anders Crosby</td>\n",
       "    </tr>\n",
       "    <tr>\n",
       "      <th>1</th>\n",
       "      <td>Connor Young</td>\n",
       "      <td>Isaac Nelson</td>\n",
       "    </tr>\n",
       "    <tr>\n",
       "      <th>2</th>\n",
       "      <td>Connor Young</td>\n",
       "      <td>Julian King</td>\n",
       "    </tr>\n",
       "    <tr>\n",
       "      <th>3</th>\n",
       "      <td>Connor Young</td>\n",
       "      <td>Jeremiah Myers</td>\n",
       "    </tr>\n",
       "    <tr>\n",
       "      <th>4</th>\n",
       "      <td>Connor Young</td>\n",
       "      <td>Ignatius Gaines</td>\n",
       "    </tr>\n",
       "  </tbody>\n",
       "</table>\n",
       "</div>"
      ],
      "text/plain": [
       "           Source           Target\n",
       "0  Phillip Lozano    Anders Crosby\n",
       "1    Connor Young     Isaac Nelson\n",
       "2    Connor Young      Julian King\n",
       "3    Connor Young   Jeremiah Myers\n",
       "4    Connor Young  Ignatius Gaines"
      ]
     },
     "execution_count": 2,
     "metadata": {},
     "output_type": "execute_result"
    }
   ],
   "source": [
    "file_path = \".\\Data From Client\\SchoolData\\Student Survey - Jan.xlsx\"\n",
    "\n",
    "friendships = pd.read_excel(file_path, sheet_name=\"net_0_Friends\")\n",
    "participants = pd.read_excel(file_path, sheet_name=\"participants\")\n",
    "KeepColumns = ['Participant-ID', 'First-Name', 'Last-Name']\n",
    "participants = participants[KeepColumns]\n",
    "participants['Name'] = participants['First-Name'] + ' ' + participants['Last-Name']\n",
    "## ID to Name Mapping\n",
    "IDtoName = participants.set_index('Participant-ID')['Name'].to_dict()\n",
    "friendships.replace(IDtoName, inplace=True)\n",
    "friendships.head()"
   ]
  },
  {
   "cell_type": "code",
   "execution_count": 3,
   "metadata": {},
   "outputs": [],
   "source": [
    "## Creating graph from the data\n",
    "\n",
    "import networkx as nx\n",
    "\n",
    "G = nx.Graph()\n",
    "\n",
    "for i in range(len(friendships)):\n",
    "    G.add_edge(friendships['Source'][i], friendships['Target'][i])"
   ]
  },
  {
   "cell_type": "code",
   "execution_count": 4,
   "metadata": {},
   "outputs": [],
   "source": [
    "from pyvis.network import Network\n",
    "nt = Network()\n",
    "nt.from_nx(G)"
   ]
  },
  {
   "cell_type": "code",
   "execution_count": 5,
   "metadata": {},
   "outputs": [],
   "source": [
    "# # Set the layout algorithm to default which is ForceAtlas2\n",
    "# nt.save_graph(\"default.html\")\n",
    "\n",
    "# # Set the layout algorithm to Fruchterman-Reingold\n",
    "# nt.barnes_hut(gravity=-8000, central_gravity=0.3, spring_length=100, spring_strength=0.001, damping=0.09)\n",
    "# nt.save_graph(\"FR_layut.html\")\n",
    "\n",
    "# # Set the layout algorithm to Kamada-Kawai\n",
    "# pos = nx.kamada_kawai_layout(G)\n",
    "\n",
    "# # Set node positions manually in Pyvis\n",
    "# for node, coords in pos.items():\n",
    "#     for node_dict in nt.nodes:\n",
    "#         if node_dict['id'] == node:\n",
    "#             node_dict['x'] = coords[0]\n",
    "#             node_dict['y'] = coords[1]\n",
    "#             break\n",
    "# # Save the graph with Kamada-Kawai-like layout\n",
    "# nt.save_graph(\"KK_layout.html\")\n",
    "\n",
    "\n",
    "## We'll use spectral layout as it is a good layout for visualizing social networks and other graphs with a natural community structure.\n",
    "## It handels large graphs well and is a good choice for visualizing graphs with a natural community structure.\n",
    "\n",
    "## Circular Layout\n",
    "# pos = nx.circular_layout(G)\n",
    "# net = Network()\n",
    "# net.from_nx(G)\n",
    "# net.save_graph(\"circulant_layout.html\")\n",
    "\n",
    "# Set the layout algorithm to Spectral\n",
    "pos = nx.spectral_layout(G)\n",
    "# Set node positions manually in Pyvis\n",
    "for node, coords in pos.items():\n",
    "    for node_dict in nt.nodes:\n",
    "        if node_dict['id'] == node:\n",
    "            node_dict['x'] = coords[0]\n",
    "            node_dict['y'] = coords[1]\n",
    "            break\n",
    "# Save the graph with Spectral-like layout\n",
    "nt.save_graph(\"./Layouts/Spectral_layout.html\")"
   ]
  },
  {
   "cell_type": "code",
   "execution_count": 6,
   "metadata": {},
   "outputs": [
    {
     "data": {
      "text/plain": [
       "NodeView(('Phillip Lozano', 'Anders Crosby', 'Connor Young', 'Isaac Nelson', 'Julian King', 'Jeremiah Myers', 'Ignatius Gaines', 'Sebastian Gonzalez', 'Kieran Pruitt', 'Thomas Carter', 'Declan Patterson', 'Derek Barnes', 'Bryce Montgomery', 'Chance Wallace', 'Michael Jackson', 'Jude Graham', 'Henry Wright', 'Zayden Coleman', 'Kingston Hamilton', 'Brody Flores', 'Flynn Stuart', 'Emmanuel Ford', 'Andrew Martinez', 'Dominic Rogers', 'Elias Cooper', 'Spencer Woodward', 'Christian Campbell', 'Jason Bailey', 'Patrick Olsen', 'Josiah Perez', 'Rory Briggs', 'Lincoln Peterson', 'Blake Sanders', 'Leo Brewer', 'Malik Cortez', 'Ethan Williams', 'Killian Kent', 'Axel Griffin', 'Jordan Reed', 'Mason Wilson', 'Tate Peck', 'Christopher Clark', 'Cole Brooks', 'Atticus Osborne', 'Graham Glenn', 'Hayden West', 'Walter Kim', 'Aiden Brown', 'Joseph Thompson', 'Finn Perry', 'Cooper Kelly', 'James Anderson', 'Samuel Harris', 'Abel Mendoza', 'Jett Nguyen', 'Miles Watson', 'Chase Wood', 'Adam Rivera', 'Cameron Cox', 'Nikolai Weeks', 'Jonathan Evans', 'Raphael Barron', 'Bentley Price', 'Eli Collins', 'Rhett Barton', 'Elliot Hayes', 'Levi Mitchell', 'Beckett Powell', 'Carlos Torres', 'William Thomas', 'Xavier Bryant', 'Jasper Luna', 'Sawyer Butler', 'Chandler Parks', 'Jesse Hawkins', 'Tyson Bush', 'Gabriel Gray', 'Hendrix Huff', 'Enzo Espinoza', 'Oscar Reynolds', 'Austin Foster', 'Jack Lopez', 'Tucker Campos', 'Dennis Lutz', 'Axel Bennett', 'Sterling Hickman', 'King Ingram', 'Nolan Morgan', 'Nathan Allen', 'Maxwell Richardson', 'Dominic Barnes', 'Silas Jenkins', 'Lorenzo Woods', 'Bennett Sullivan', 'Alexander Taylor', 'Caden Novak', 'Aaron Edwards', 'Noah Johnson', 'Daniel White', 'Caleb Davis', 'Jeremiah Murphy', 'Cole Stewart', 'Lucian Wu', 'Maximus Cole', 'Logan Lewis', 'Emmanuel Chambers', 'Tristan James', 'Isaac Walker', 'Colton Henderson', 'Lucius Franco', 'Jonah Russell', 'Owen Hernandez', 'Jackson Rodriguez', 'Lawrence Cervantes', 'Damian Harrison', 'Zayn Gould', 'Simon Cline', 'Ryan Hall', 'Gabriel Lee', 'Donovan Steele', 'Matthew Martin', 'Mateo Ramirez', 'Ronald Salazar', 'River Ellis', 'Iker Fisher', 'Cole Ward', 'Zander Buchanan', 'Wesley Long', 'Damon Banks', 'Cassian Jarvis', 'Winston Bruce', 'Marcus Hughes', 'Tobias Tanner', 'Benjamin Miller', 'Tucker Castro', 'Ricardo Owens', 'Oliver Jones', 'Lucas Robinson', 'Zane Pena', 'Harrison Howard', 'Marcellus Tovar', 'Greyson Ross', 'Miguel Jordan', 'Victor Hodge', 'David Parker', 'Hunter Roberts', 'David Garcia', 'Richard Harrington', 'Caleb Turner', 'Jaxson Washington', 'Carter Baker', 'Anthony Hill', 'Gideon Shea', 'Leo Adams', 'Leon Kirk', 'Ezekiel Gonzales', 'Adrian Cook', 'Dylan Scott', 'Evan Sanchez', 'Charles Diaz', 'Titus Serrano', 'Braxton Warren', 'Easton Bell', 'Liam Smith', 'Elijah Moore', 'Thaddeus Noble', 'Roman Simmons', 'Wyatt Green', 'Barrett Gibson', 'Luke Phillips', 'Peter Alexander', 'Bruce Malone', 'Malcolm Knox', 'Jaxon Morris', 'Jorge Fox'))"
      ]
     },
     "execution_count": 6,
     "metadata": {},
     "output_type": "execute_result"
    }
   ],
   "source": [
    "G.nodes()"
   ]
  },
  {
   "cell_type": "code",
   "execution_count": 7,
   "metadata": {},
   "outputs": [],
   "source": [
    "number_of_nodes = G.number_of_nodes()\n",
    "number_of_edges = G.number_of_edges()\n",
    "average_degree = sum(dict(G.degree()).values())/G.number_of_nodes()\n",
    "density = nx.density(G)\n",
    "clustering_coefficient = nx.average_clustering(G)\n",
    "average_shortest_path_length = nx.average_shortest_path_length(G)\n",
    "diameter = nx.diameter(G)\n",
    "degree_centrality = nx.degree_centrality(G)\n",
    "closeness_centrality = nx.closeness_centrality(G)\n",
    "betweenness_centrality = nx.betweenness_centrality(G)\n",
    "eigenvector_centrality = nx.eigenvector_centrality(G)\n",
    "pagerank = nx.pagerank(G)\n",
    "hits = nx.hits(G)\n",
    "\n",
    "statistics = {\n",
    "    'Number of nodes': number_of_nodes,\n",
    "    'Number of edges': number_of_edges,\n",
    "    'Average degree': average_degree,\n",
    "    'Density': density,\n",
    "    'Clustering coefficient': clustering_coefficient,\n",
    "    'Average shortest path length': average_shortest_path_length,\n",
    "    'Diameter': diameter,\n",
    "    'Degree centrality': degree_centrality,\n",
    "    'Closeness centrality': closeness_centrality,\n",
    "    'Betweenness centrality': betweenness_centrality,\n",
    "    'Eigenvector centrality': eigenvector_centrality,\n",
    "    'PageRank': pagerank,\n",
    "    'HITS': hits\n",
    "}\n",
    "\n",
    "vals_to_show = ['Number of nodes', 'Number of edges', 'Average degree', 'Density', 'Clustering coefficient', 'Average shortest path length', 'Diameter']\n",
    "\n",
    "## Adding statistics to the graph\n",
    "with open(\"./Layouts/Spectral_layout.html\", \"r\") as file:\n",
    "    data = file.readlines()\n",
    "\n",
    "data.insert(1, \"<h2>Statistics</h2>\\n\")\n",
    "data.insert(2, \"<ul>\\n\")\n",
    "for key in vals_to_show:\n",
    "    value = statistics[key]\n",
    "    data.insert(3, f\"<li>{key}: {value:.4f}</li>\\n\")\n",
    "        \n",
    "data.insert(2 + len(statistics) + 1, \"</ul>\\n\")\n",
    "\n",
    "with open(\"./Layouts/Spectral_layout.html\", \"w\") as file:\n",
    "    file.writelines(data)"
   ]
  },
  {
   "cell_type": "code",
   "execution_count": 8,
   "metadata": {},
   "outputs": [],
   "source": [
    "## Coloring based on degree centrality\n",
    "max_degree = max(degree_centrality.values())\n",
    "min_degree = min(degree_centrality.values())\n",
    "degree_centrality_colors = {node: (degree_centrality[node] - min_degree)/(max_degree - min_degree) for node in degree_centrality}\n",
    "\n",
    "for node_dict in nt.nodes:\n",
    "    node = node_dict['id']\n",
    "    node_dict['color'] = f\"rgba(0, 0, 255, {degree_centrality_colors[node]})\"\n",
    "    node_dict['size'] = 10 + 100*degree_centrality[node]\n",
    "\n",
    "nt.save_graph(\"./Layouts/Spectral_layout_2.html\")"
   ]
  },
  {
   "cell_type": "markdown",
   "metadata": {},
   "source": [
    "## Community Analysis"
   ]
  },
  {
   "cell_type": "code",
   "execution_count": 9,
   "metadata": {},
   "outputs": [],
   "source": [
    "## Community analysis\n",
    "from community import community_louvain\n",
    "partition = community_louvain.best_partition(G)\n",
    "\n",
    "for node_dict in nt.nodes:\n",
    "    node = node_dict['id']\n",
    "    node_dict['color'] = f\"rgba({partition[node]*255}, 0, 0, 1)\"\n",
    "    node_dict['size'] = 10 + 100*degree_centrality[node]\n",
    "\n",
    "nt.save_graph(\"./Layouts/Spectral_Community.html\")"
   ]
  },
  {
   "cell_type": "code",
   "execution_count": 10,
   "metadata": {},
   "outputs": [
    {
     "name": "stdout",
     "output_type": "stream",
     "text": [
      "Number of communities:  8\n",
      "Community with the largest size:  33\n",
      "Community with the smallest size:  11\n",
      "Modularity:  0.5366111678449117\n"
     ]
    }
   ],
   "source": [
    "# Community detection\n",
    "from networkx.algorithms import community\n",
    "\n",
    "communities = community.louvain_communities(G)\n",
    "number_of_communities = len(communities)\n",
    "community_sizes = [len(community) for community in communities]\n",
    "largest_community = max(community_sizes)\n",
    "smallest_community = min(community_sizes)\n",
    "modularity = community.modularity(G, communities)\n",
    "\n",
    "## More comminuti Statistics\n",
    "\n",
    "\n",
    "community_statistics = {\n",
    "    'Number of communities': number_of_communities,\n",
    "    'Community with the largest size': largest_community,\n",
    "    'Community with the smallest size': smallest_community,\n",
    "    'Modularity': modularity\n",
    "}\n",
    "\n",
    "# print(communities)\n",
    "print(\"Number of communities: \", number_of_communities)\n",
    "print(\"Community with the largest size: \", largest_community)\n",
    "print(\"Community with the smallest size: \", smallest_community)\n",
    "print(\"Modularity: \", modularity)"
   ]
  },
  {
   "cell_type": "code",
   "execution_count": 11,
   "metadata": {},
   "outputs": [],
   "source": [
    "import matplotlib.colors as mcolors\n",
    "import numpy as np\n",
    "\n",
    "\n",
    "# Generate a LinearSegmentedColormap with pastel colors\n",
    "pastel_cmap = mcolors.LinearSegmentedColormap.from_list(\n",
    "    'pastel_cmap', \n",
    "    np.random.rand(number_of_communities, 4), \n",
    "    N=number_of_communities\n",
    ")\n",
    "\n",
    "# Get the pastel colors\n",
    "pastel_colors = pastel_cmap(np.linspace(0, 1, number_of_communities))"
   ]
  },
  {
   "cell_type": "code",
   "execution_count": 12,
   "metadata": {},
   "outputs": [],
   "source": [
    "# Set node colors based on communities\n",
    "\n",
    "node_comunity_color_map = dict()\n",
    "\n",
    "for idx, community in enumerate(communities):\n",
    "    color = mcolors.to_hex(pastel_colors[idx])\n",
    "    for node in community:\n",
    "        node_comunity_color_map[node] = color\n",
    "for idx, node_dict in enumerate(nt.nodes):\n",
    "    nt.nodes[idx]['color'] = node_comunity_color_map[node_dict['id']]\n",
    "# Visualize the network\n",
    "nt.save_graph(\"./Layouts/communities.html\")\n",
    "\n",
    "\n",
    "\n",
    "## Adding community statistics to the Graph\n",
    "with open(\"./Layouts/communities.html\", \"r\") as file:\n",
    "    data = file.readlines()\n",
    "\n",
    "data.insert(1, \"<h2>Community Statistics</h2>\\n\")\n",
    "data.insert(2, \"<ul>\\n\")\n",
    "for key, value in community_statistics.items():\n",
    "    data.insert(3, f\"<li>{key}: {value:.4f}</li>\\n\")\n",
    "data.insert(2 + len(community_statistics) + 1, \"</ul>\\n\")\n",
    "\n",
    "with open(\"./Layouts/communities.html\", \"w\") as file:\n",
    "    file.writelines(data)"
   ]
  },
  {
   "cell_type": "markdown",
   "metadata": {},
   "source": [
    "# Answering Questions"
   ]
  },
  {
   "cell_type": "code",
   "execution_count": 13,
   "metadata": {},
   "outputs": [],
   "source": [
    "import json\n",
    "import pandas as pd\n",
    "import networkx as nx\n",
    "from pyvis.network import Network"
   ]
  },
  {
   "cell_type": "code",
   "execution_count": 14,
   "metadata": {},
   "outputs": [
    {
     "name": "stdout",
     "output_type": "stream",
     "text": [
      "['data_dictionary', 'affiliations', 'participants', 'responses', 'net_0_Friends', 'net_1_Influential', 'net_2_Feedback', 'net_3_MoreTime', 'net_4_Advice', 'net_5_Disrespect', 'net_affiliation_0_SchoolActivit']\n"
     ]
    }
   ],
   "source": [
    "## Get all sheet names from excel file\n",
    "file_path = \".\\Data From Client\\SchoolData\\Student Survey - Jan.xlsx\"\n",
    "df = pd.ExcelFile(file_path)\n",
    "sheet_names = df.sheet_names\n",
    "\n",
    "print(sheet_names)"
   ]
  },
  {
   "cell_type": "markdown",
   "metadata": {},
   "source": [
    "## Who are your closest friends?"
   ]
  },
  {
   "cell_type": "code",
   "execution_count": 15,
   "metadata": {},
   "outputs": [
    {
     "name": "stdout",
     "output_type": "stream",
     "text": [
      "{'Phillip Lozano': ['Phillip Lozano', 'Anders Crosby', 'Austin Foster'], 'Anders Crosby': ['Anders Crosby', 'Phillip Lozano', 'Austin Foster'], 'Connor Young': ['Connor Young', 'Isaac Nelson', 'Julian King'], 'Isaac Nelson': ['Isaac Nelson', 'Connor Young', 'Kingston Hamilton'], 'Julian King': ['Julian King', 'Connor Young', 'Kieran Pruitt'], 'Jeremiah Myers': ['Jeremiah Myers', 'Connor Young', 'Ignatius Gaines'], 'Ignatius Gaines': ['Ignatius Gaines', 'Connor Young', 'Matthew Martin'], 'Sebastian Gonzalez': ['Sebastian Gonzalez', 'Connor Young', 'Anthony Hill'], 'Kieran Pruitt': ['Kieran Pruitt', 'Connor Young', 'Jeremiah Myers'], 'Thomas Carter': ['Thomas Carter', 'Connor Young', 'Austin Foster'], 'Declan Patterson': ['Declan Patterson', 'Connor Young', 'Lincoln Peterson'], 'Derek Barnes': ['Derek Barnes', 'Bryce Montgomery', 'Chance Wallace'], 'Bryce Montgomery': ['Bryce Montgomery', 'Derek Barnes', 'Maxwell Richardson'], 'Chance Wallace': ['Chance Wallace', 'Derek Barnes', 'Declan Patterson'], 'Michael Jackson': ['Michael Jackson', 'Derek Barnes', 'Marcellus Tovar'], 'Jude Graham': ['Jude Graham', 'Derek Barnes', 'Bryce Montgomery'], 'Henry Wright': ['Henry Wright', 'Derek Barnes', 'Jordan Reed'], 'Zayden Coleman': ['Zayden Coleman', 'Derek Barnes', 'Axel Griffin'], 'Kingston Hamilton': ['Kingston Hamilton', 'Brody Flores', 'Flynn Stuart'], 'Brody Flores': ['Brody Flores', 'Kingston Hamilton', 'Elias Cooper'], 'Flynn Stuart': ['Flynn Stuart', 'Kingston Hamilton', 'Elias Cooper'], 'Emmanuel Ford': ['Emmanuel Ford', 'Kingston Hamilton', 'Elias Cooper'], 'Andrew Martinez': ['Andrew Martinez', 'Kingston Hamilton', 'Elias Cooper'], 'Dominic Rogers': ['Dominic Rogers', 'Kingston Hamilton', 'Elias Cooper'], 'Elias Cooper': ['Elias Cooper', 'Kingston Hamilton', 'Andrew Martinez'], 'Spencer Woodward': ['Spencer Woodward', 'Christian Campbell', 'Jason Bailey'], 'Christian Campbell': ['Christian Campbell', 'Spencer Woodward', 'James Anderson'], 'Jason Bailey': ['Jason Bailey', 'Spencer Woodward', 'Josiah Perez'], 'Patrick Olsen': ['Patrick Olsen', 'Spencer Woodward', 'Tate Peck'], 'Josiah Perez': ['Josiah Perez', 'Spencer Woodward', 'Tate Peck'], 'Rory Briggs': ['Rory Briggs', 'Spencer Woodward', 'Tate Peck'], 'Lincoln Peterson': ['Lincoln Peterson', 'Blake Sanders', 'Declan Patterson'], 'Blake Sanders': ['Blake Sanders', 'Lincoln Peterson', 'Leo Brewer'], 'Leo Brewer': ['Leo Brewer', 'Lincoln Peterson', 'Declan Patterson'], 'Malik Cortez': ['Malik Cortez', 'Lincoln Peterson', 'Jordan Reed'], 'Ethan Williams': ['Ethan Williams', 'Lincoln Peterson', 'Tucker Campos'], 'Killian Kent': ['Killian Kent', 'Elias Cooper', 'Zayn Gould'], 'Axel Griffin': ['Axel Griffin', 'Zayden Coleman', 'Jordan Reed'], 'Jordan Reed': ['Jordan Reed', 'Axel Griffin', 'Henry Wright'], 'Mason Wilson': ['Mason Wilson', 'Axel Griffin', 'Leo Brewer'], 'Tate Peck': ['Tate Peck', 'Christopher Clark', 'Cole Brooks'], 'Christopher Clark': ['Christopher Clark', 'Tate Peck', 'Eli Collins'], 'Cole Brooks': ['Cole Brooks', 'Tate Peck', 'Samuel Harris'], 'Atticus Osborne': ['Atticus Osborne', 'Tate Peck', 'Eli Collins'], 'Graham Glenn': ['Graham Glenn', 'Tate Peck', 'Joseph Thompson'], 'Hayden West': ['Hayden West', 'Tate Peck', 'Josiah Perez'], 'Walter Kim': ['Walter Kim', 'Tate Peck', 'Jackson Rodriguez'], 'Aiden Brown': ['Aiden Brown', 'Tate Peck', 'Maximus Cole'], 'Joseph Thompson': ['Joseph Thompson', 'Tate Peck', 'Jordan Reed'], 'Finn Perry': ['Finn Perry', 'Tate Peck', 'Walter Kim'], 'Cooper Kelly': ['Cooper Kelly', 'Tate Peck', 'James Anderson'], 'James Anderson': ['James Anderson', 'Tate Peck', 'Cooper Kelly'], 'Samuel Harris': ['Samuel Harris', 'Tate Peck', 'Matthew Martin'], 'Abel Mendoza': ['Abel Mendoza', 'Tate Peck', 'Jordan Reed'], 'Jett Nguyen': ['Jett Nguyen', 'Tate Peck', 'Sebastian Gonzalez'], 'Miles Watson': ['Miles Watson', 'Tate Peck', 'Finn Perry'], 'Chase Wood': ['Chase Wood', 'Tate Peck', 'Lorenzo Woods'], 'Adam Rivera': ['Adam Rivera', 'Tate Peck', 'Patrick Olsen'], 'Cameron Cox': ['Cameron Cox', 'Nikolai Weeks', 'Jonathan Evans'], 'Nikolai Weeks': ['Nikolai Weeks', 'Cameron Cox', 'Jordan Reed'], 'Jonathan Evans': ['Jonathan Evans', 'Cameron Cox', 'Eli Collins'], 'Raphael Barron': ['Raphael Barron', 'Cameron Cox', 'Jordan Reed'], 'Bentley Price': ['Bentley Price', 'Cameron Cox', 'Jordan Reed'], 'Eli Collins': ['Eli Collins', 'Cameron Cox', 'Maximus Cole'], 'Rhett Barton': ['Rhett Barton', 'Elliot Hayes', 'Levi Mitchell'], 'Elliot Hayes': ['Elliot Hayes', 'Rhett Barton', 'Zane Pena'], 'Levi Mitchell': ['Levi Mitchell', 'Rhett Barton', 'William Thomas'], 'Beckett Powell': ['Beckett Powell', 'Rhett Barton', 'Joseph Thompson'], 'Carlos Torres': ['Carlos Torres', 'Rhett Barton', 'William Thomas'], 'William Thomas': ['William Thomas', 'Rhett Barton', 'Jack Lopez'], 'Xavier Bryant': ['Xavier Bryant', 'Rhett Barton', 'Winston Bruce'], 'Jasper Luna': ['Jasper Luna', 'Sawyer Butler', 'Chandler Parks'], 'Sawyer Butler': ['Sawyer Butler', 'Jasper Luna', 'Chandler Parks'], 'Chandler Parks': ['Chandler Parks', 'Jasper Luna', 'Nathan Allen'], 'Jesse Hawkins': ['Jesse Hawkins', 'Tyson Bush', 'Gabriel Gray'], 'Tyson Bush': ['Tyson Bush', 'Jesse Hawkins', 'Hendrix Huff'], 'Gabriel Gray': ['Gabriel Gray', 'Jesse Hawkins', 'Finn Perry'], 'Hendrix Huff': ['Hendrix Huff', 'Jesse Hawkins', 'Tyson Bush'], 'Enzo Espinoza': ['Enzo Espinoza', 'Jesse Hawkins', 'Hendrix Huff'], 'Oscar Reynolds': ['Oscar Reynolds', 'Jesse Hawkins', 'Hendrix Huff'], 'Austin Foster': ['Austin Foster', 'Jesse Hawkins', 'Hendrix Huff'], 'Jack Lopez': ['Jack Lopez', 'Tucker Campos', 'Dennis Lutz'], 'Tucker Campos': ['Tucker Campos', 'Jack Lopez', 'King Ingram'], 'Dennis Lutz': ['Dennis Lutz', 'Jack Lopez', 'King Ingram'], 'Axel Bennett': ['Axel Bennett', 'Jack Lopez', 'King Ingram'], 'Sterling Hickman': ['Sterling Hickman', 'Jack Lopez', 'King Ingram'], 'King Ingram': ['King Ingram', 'Jack Lopez', 'Sterling Hickman'], 'Nolan Morgan': ['Nolan Morgan', 'Jack Lopez', 'Tucker Campos'], 'Nathan Allen': ['Nathan Allen', 'Chandler Parks', 'Maxwell Richardson'], 'Maxwell Richardson': ['Maxwell Richardson', 'Nathan Allen', 'Bryce Montgomery'], 'Dominic Barnes': ['Dominic Barnes', 'Declan Patterson', 'Carlos Torres'], 'Silas Jenkins': ['Silas Jenkins', 'Declan Patterson', 'Zayn Gould'], 'Lorenzo Woods': ['Lorenzo Woods', 'Bennett Sullivan', 'Alexander Taylor'], 'Bennett Sullivan': ['Bennett Sullivan', 'Lorenzo Woods', 'Caden Novak'], 'Alexander Taylor': ['Alexander Taylor', 'Lorenzo Woods', 'Oliver Jones'], 'Caden Novak': ['Caden Novak', 'Lorenzo Woods', 'Bennett Sullivan'], 'Aaron Edwards': ['Aaron Edwards', 'Noah Johnson', 'Daniel White'], 'Noah Johnson': ['Noah Johnson', 'Aaron Edwards', 'Joseph Thompson'], 'Daniel White': ['Daniel White', 'Aaron Edwards', 'Zane Pena'], 'Caleb Davis': ['Caleb Davis', 'Aaron Edwards', 'Jonathan Evans'], 'Jeremiah Murphy': ['Jeremiah Murphy', 'Hendrix Huff', 'Tyson Bush'], 'Cole Stewart': ['Cole Stewart', 'Hendrix Huff', 'Joseph Thompson'], 'Lucian Wu': ['Lucian Wu', 'Hendrix Huff', 'Richard Harrington'], 'Maximus Cole': ['Maximus Cole', 'Eli Collins', 'Matthew Martin'], 'Logan Lewis': ['Logan Lewis', 'Eli Collins', 'Jordan Reed'], 'Emmanuel Chambers': ['Emmanuel Chambers', 'James Anderson', 'Cassian Jarvis'], 'Tristan James': ['Tristan James', 'James Anderson', 'Leon Kirk'], 'Isaac Walker': ['Isaac Walker', 'James Anderson', 'Jason Bailey'], 'Colton Henderson': ['Colton Henderson', 'Lucius Franco', 'Miguel Jordan'], 'Lucius Franco': ['Lucius Franco', 'Colton Henderson', 'Miguel Jordan'], 'Jonah Russell': ['Jonah Russell', 'Owen Hernandez', 'Connor Young'], 'Owen Hernandez': ['Owen Hernandez', 'Jonah Russell', 'Evan Sanchez'], 'Jackson Rodriguez': ['Jackson Rodriguez', 'Jonathan Evans', 'Walter Kim'], 'Lawrence Cervantes': ['Lawrence Cervantes', 'Caden Novak', 'Richard Harrington'], 'Damian Harrison': ['Damian Harrison', 'Caden Novak', 'Oscar Reynolds'], 'Zayn Gould': ['Zayn Gould', 'Killian Kent', 'Silas Jenkins'], 'Simon Cline': ['Simon Cline', 'Zayn Gould', 'Tyson Bush'], 'Ryan Hall': ['Ryan Hall', 'Zayn Gould', 'Joseph Thompson'], 'Gabriel Lee': ['Gabriel Lee', 'Zayn Gould', 'Joseph Thompson'], 'Donovan Steele': ['Donovan Steele', 'Zayn Gould', 'Ethan Williams'], 'Matthew Martin': ['Matthew Martin', 'Tyson Bush', 'Hendrix Huff'], 'Mateo Ramirez': ['Mateo Ramirez', 'Ronald Salazar', 'River Ellis'], 'Ronald Salazar': ['Ronald Salazar', 'Mateo Ramirez', 'Raphael Barron'], 'River Ellis': ['River Ellis', 'Mateo Ramirez', 'Raphael Barron'], 'Iker Fisher': ['Iker Fisher', 'Jordan Reed', 'Elijah Moore'], 'Cole Ward': ['Cole Ward', 'Jordan Reed', 'Zayden Coleman'], 'Zander Buchanan': ['Zander Buchanan', 'Maximus Cole', 'Zayden Coleman'], 'Wesley Long': ['Wesley Long', 'Maximus Cole', 'Rory Briggs'], 'Damon Banks': ['Damon Banks', 'William Thomas', 'Marcellus Tovar'], 'Cassian Jarvis': ['Cassian Jarvis', 'Joseph Thompson', 'Cooper Kelly'], 'Winston Bruce': ['Winston Bruce', 'Joseph Thompson', 'Zane Pena'], 'Marcus Hughes': ['Marcus Hughes', 'Joseph Thompson', 'Ricardo Owens'], 'Tobias Tanner': ['Tobias Tanner', 'Joseph Thompson', 'Tucker Castro'], 'Benjamin Miller': ['Benjamin Miller', 'Joseph Thompson', 'Tucker Castro'], 'Tucker Castro': ['Tucker Castro', 'Joseph Thompson', 'Tobias Tanner'], 'Ricardo Owens': ['Ricardo Owens', 'Josiah Perez', 'Rory Briggs'], 'Oliver Jones': ['Oliver Jones', 'Nathan Allen', 'Lucas Robinson'], 'Lucas Robinson': ['Lucas Robinson', 'Oliver Jones', 'Victor Hodge'], 'Zane Pena': ['Zane Pena', 'Elliot Hayes', 'Levi Mitchell'], 'Harrison Howard': ['Harrison Howard', 'Zane Pena', 'Ethan Williams'], 'Marcellus Tovar': ['Marcellus Tovar', 'Bentley Price', 'Christopher Clark'], 'Greyson Ross': ['Greyson Ross', 'Marcellus Tovar', 'Jeremiah Myers'], 'Miguel Jordan': ['Miguel Jordan', 'Mason Wilson', 'Lorenzo Woods'], 'Victor Hodge': ['Victor Hodge', 'Chandler Parks', 'David Parker'], 'David Parker': ['David Parker', 'Victor Hodge', 'Lucas Robinson'], 'Hunter Roberts': ['Hunter Roberts', 'Victor Hodge', 'David Parker'], 'David Garcia': ['David Garcia', 'Jeremiah Myers', 'Nolan Morgan'], 'Richard Harrington': ['Richard Harrington', 'Caleb Turner', 'Kieran Pruitt'], 'Caleb Turner': ['Caleb Turner', 'Richard Harrington', 'Kieran Pruitt'], 'Jaxson Washington': ['Jaxson Washington', 'Richard Harrington', 'Samuel Harris'], 'Carter Baker': ['Carter Baker', 'Caleb Turner', 'Anthony Hill'], 'Anthony Hill': ['Anthony Hill', 'Tyson Bush', 'Oscar Reynolds'], 'Gideon Shea': ['Gideon Shea', 'Jaxson Washington', 'Jeremiah Murphy'], 'Leo Adams': ['Leo Adams', 'Jaxson Washington', 'Gideon Shea'], 'Leon Kirk': ['Leon Kirk', 'Christian Campbell', 'Tristan James'], 'Ezekiel Gonzales': ['Ezekiel Gonzales', 'Thomas Carter', 'Damian Harrison'], 'Adrian Cook': ['Adrian Cook', 'Thomas Carter', 'Ezekiel Gonzales'], 'Dylan Scott': ['Dylan Scott', 'Thomas Carter', 'Adrian Cook'], 'Evan Sanchez': ['Evan Sanchez', 'Charles Diaz', 'Titus Serrano'], 'Charles Diaz': ['Charles Diaz', 'Evan Sanchez', 'Silas Jenkins'], 'Titus Serrano': ['Titus Serrano', 'Evan Sanchez', 'Peter Alexander'], 'Braxton Warren': ['Braxton Warren', 'Thomas Carter', 'Connor Young'], 'Easton Bell': ['Easton Bell', 'Raphael Barron', 'Cooper Kelly'], 'Liam Smith': ['Liam Smith', 'Raphael Barron', 'Easton Bell'], 'Elijah Moore': ['Elijah Moore', 'Simon Cline', 'Greyson Ross'], 'Thaddeus Noble': ['Thaddeus Noble', 'Chase Wood', 'Easton Bell'], 'Roman Simmons': ['Roman Simmons', 'Finn Perry', 'Abel Mendoza'], 'Wyatt Green': ['Wyatt Green', 'Zander Buchanan', 'Liam Smith'], 'Barrett Gibson': ['Barrett Gibson', 'Silas Jenkins', 'Damon Banks'], 'Luke Phillips': ['Luke Phillips', 'Winston Bruce', 'Zayden Coleman'], 'Peter Alexander': ['Peter Alexander', 'Winston Bruce', 'Owen Hernandez'], 'Bruce Malone': ['Bruce Malone', 'Levi Mitchell', 'Barrett Gibson'], 'Malcolm Knox': ['Malcolm Knox', 'Liam Smith', 'Jonathan Evans'], 'Jaxon Morris': ['Jaxon Morris', 'Lawrence Cervantes', 'Peter Alexander'], 'Jorge Fox': ['Jorge Fox', 'Noah Johnson', 'Tucker Castro']}\n"
     ]
    }
   ],
   "source": [
    "friendships = pd.read_excel(file_path, sheet_name=\"net_0_Friends\")\n",
    "participants = pd.read_excel(file_path, sheet_name=\"participants\")\n",
    "KeepColumns = ['Participant-ID', 'First-Name', 'Last-Name']\n",
    "participants = participants[KeepColumns]\n",
    "participants['Name'] = participants['First-Name'] + ' ' + participants['Last-Name']\n",
    "## ID to Name Mapping\n",
    "IDtoName = participants.set_index('Participant-ID')['Name'].to_dict()\n",
    "friendships.replace(IDtoName, inplace=True)\n",
    "\n",
    "G = nx.Graph()\n",
    "\n",
    "for i in range(len(friendships)):\n",
    "    G.add_edge(friendships['Source'][i], friendships['Target'][i])\n",
    "\n",
    "\n",
    "## Based on the graph, let us answer Who are the closest friends for each student?\n",
    "# For each student -> Save closest friends in a list and then save as a jjson file\n",
    "closest_friends_data = dict()\n",
    "for student in G.nodes:\n",
    "    # Get the shortest paths from this student to all other students\n",
    "    paths = nx.single_source_shortest_path(G, student)\n",
    "    \n",
    "    # The closest friends are those at a distance of 2 (i.e., one intermediate node)\n",
    "    closest_friends = sorted([(friend, len(path)) for friend, path in paths.items()], key=lambda x: x[1])[:3]\n",
    "    closest_friends = [friend for friend, distance in closest_friends]\n",
    "    closest_friends_data[student] = closest_friends\n",
    "\n",
    "print(closest_friends_data)\n",
    "\n",
    "with open(\"./Answering Questions/closest_friends.json\", \"w\") as file:\n",
    "    json.dump(closest_friends_data, file)\n",
    "\n",
    "\n",
    "## Save graph using spectral layout\n",
    "pos = nx.spectral_layout(G)\n",
    "nt = Network()\n",
    "nt.from_nx(G)\n",
    "\n",
    "# Set node positions manually in Pyvis\n",
    "for node, coords in pos.items():\n",
    "    for node_dict in nt.nodes:\n",
    "        if node_dict['id'] == node:\n",
    "            node_dict['x'] = coords[0]\n",
    "            node_dict['y'] = coords[1]\n",
    "            break\n",
    "# Save the graph with Spectral-like layout\n",
    "nt.save_graph(\"./Layouts/Friendships.html\")"
   ]
  },
  {
   "cell_type": "markdown",
   "metadata": {},
   "source": [
    "## Which other students do you to go for advice about schoolwork?"
   ]
  },
  {
   "cell_type": "code",
   "execution_count": 16,
   "metadata": {},
   "outputs": [
    {
     "name": "stdout",
     "output_type": "stream",
     "text": [
      "{'Connor Young': ['Jorge Fox', 'Noah Johnson', 'Tucker Castro'], 'Sebastian Gonzalez': ['Jorge Fox', 'Noah Johnson', 'Tucker Castro'], 'Kieran Pruitt': ['Jorge Fox', 'Noah Johnson', 'Tucker Castro'], 'Derek Barnes': ['Jorge Fox', 'Noah Johnson', 'Tucker Castro'], 'Bennett Sullivan': ['Jorge Fox', 'Noah Johnson', 'Tucker Castro'], 'Zayden Coleman': ['Jorge Fox', 'Noah Johnson', 'Tucker Castro'], 'Kingston Hamilton': ['Jorge Fox', 'Noah Johnson', 'Tucker Castro'], 'Spencer Woodward': ['Jorge Fox', 'Noah Johnson', 'Tucker Castro'], 'Christian Campbell': ['Jorge Fox', 'Noah Johnson', 'Tucker Castro'], 'Elias Cooper': ['Jorge Fox', 'Noah Johnson', 'Tucker Castro'], 'Andrew Martinez': ['Jorge Fox', 'Noah Johnson', 'Tucker Castro'], 'Dominic Rogers': ['Jorge Fox', 'Noah Johnson', 'Tucker Castro'], 'Axel Griffin': ['Jorge Fox', 'Noah Johnson', 'Tucker Castro'], 'Tate Peck': ['Jorge Fox', 'Noah Johnson', 'Tucker Castro'], 'Graham Glenn': ['Jorge Fox', 'Noah Johnson', 'Tucker Castro'], 'Christopher Clark': ['Jorge Fox', 'Noah Johnson', 'Tucker Castro'], 'Samuel Harris': ['Jorge Fox', 'Noah Johnson', 'Tucker Castro'], 'Cole Brooks': ['Jorge Fox', 'Noah Johnson', 'Tucker Castro'], 'Cameron Cox': ['Jorge Fox', 'Noah Johnson', 'Tucker Castro'], 'Jonathan Evans': ['Jorge Fox', 'Noah Johnson', 'Tucker Castro'], 'Raphael Barron': ['Jorge Fox', 'Noah Johnson', 'Tucker Castro'], 'Adam Rivera': ['Jorge Fox', 'Noah Johnson', 'Tucker Castro'], 'Jasper Luna': ['Jorge Fox', 'Noah Johnson', 'Tucker Castro'], 'Jesse Hawkins': ['Jorge Fox', 'Noah Johnson', 'Tucker Castro'], 'Tyson Bush': ['Jorge Fox', 'Noah Johnson', 'Tucker Castro'], 'Gabriel Gray': ['Jorge Fox', 'Noah Johnson', 'Tucker Castro'], 'Jack Lopez': ['Jorge Fox', 'Noah Johnson', 'Tucker Castro'], 'William Thomas': ['Jorge Fox', 'Noah Johnson', 'Tucker Castro'], 'Dennis Lutz': ['Jorge Fox', 'Noah Johnson', 'Tucker Castro'], 'Sterling Hickman': ['Jorge Fox', 'Noah Johnson', 'Tucker Castro'], 'Ignatius Gaines': ['Jorge Fox', 'Noah Johnson', 'Tucker Castro'], 'Gabriel Lee': ['Jorge Fox', 'Noah Johnson', 'Tucker Castro'], 'Chandler Parks': ['Jorge Fox', 'Noah Johnson', 'Tucker Castro'], 'Nathan Allen': ['Jorge Fox', 'Noah Johnson', 'Tucker Castro'], 'Lorenzo Woods': ['Jorge Fox', 'Noah Johnson', 'Tucker Castro'], 'Maxwell Richardson': ['Jorge Fox', 'Noah Johnson', 'Tucker Castro'], 'Damon Banks': ['Jorge Fox', 'Noah Johnson', 'Tucker Castro'], 'Declan Patterson': ['Jorge Fox', 'Noah Johnson', 'Tucker Castro'], 'Lincoln Peterson': ['Jorge Fox', 'Noah Johnson', 'Tucker Castro'], 'Caden Novak': ['Jorge Fox', 'Noah Johnson', 'Tucker Castro'], 'Hendrix Huff': ['Jorge Fox', 'Noah Johnson', 'Tucker Castro'], 'Jeremiah Murphy': ['Jorge Fox', 'Noah Johnson', 'Tucker Castro'], 'Enzo Espinoza': ['Jorge Fox', 'Noah Johnson', 'Tucker Castro'], 'Cole Stewart': ['Jorge Fox', 'Noah Johnson', 'Tucker Castro'], 'Oscar Reynolds': ['Jorge Fox', 'Noah Johnson', 'Tucker Castro'], 'Eli Collins': ['Jorge Fox', 'Noah Johnson', 'Tucker Castro'], 'Atticus Osborne': ['Jorge Fox', 'Noah Johnson', 'Tucker Castro'], 'James Anderson': ['Jorge Fox', 'Noah Johnson', 'Tucker Castro'], 'Cooper Kelly': ['Jorge Fox', 'Noah Johnson', 'Tucker Castro'], 'Emmanuel Chambers': ['Jorge Fox', 'Noah Johnson', 'Tucker Castro'], 'Colton Henderson': ['Jorge Fox', 'Noah Johnson', 'Tucker Castro'], 'Lucius Franco': ['Jorge Fox', 'Noah Johnson', 'Tucker Castro'], 'Leo Brewer': ['Jorge Fox', 'Noah Johnson', 'Tucker Castro'], 'Blake Sanders': ['Jorge Fox', 'Noah Johnson', 'Tucker Castro'], 'King Ingram': ['Jorge Fox', 'Noah Johnson', 'Tucker Castro'], 'Isaac Nelson': ['Jorge Fox', 'Noah Johnson', 'Tucker Castro'], 'Jackson Rodriguez': ['Jorge Fox', 'Noah Johnson', 'Tucker Castro'], 'Matthew Martin': ['Jorge Fox', 'Noah Johnson', 'Tucker Castro'], 'Mateo Ramirez': ['Jorge Fox', 'Noah Johnson', 'Tucker Castro'], 'Ronald Salazar': ['Jorge Fox', 'Noah Johnson', 'Tucker Castro'], 'Jordan Reed': ['Jorge Fox', 'Noah Johnson', 'Tucker Castro'], 'Maximus Cole': ['Jorge Fox', 'Noah Johnson', 'Tucker Castro'], 'Rory Briggs': ['Jorge Fox', 'Noah Johnson', 'Tucker Castro'], 'Logan Lewis': ['Jorge Fox', 'Noah Johnson', 'Tucker Castro'], 'Bryce Montgomery': ['Jorge Fox', 'Noah Johnson', 'Tucker Castro'], 'Flynn Stuart': ['Jorge Fox', 'Noah Johnson', 'Tucker Castro'], 'Levi Mitchell': ['Jorge Fox', 'Noah Johnson', 'Tucker Castro'], 'Chance Wallace': ['Jorge Fox', 'Noah Johnson', 'Tucker Castro'], 'Carlos Torres': ['Jorge Fox', 'Noah Johnson', 'Tucker Castro'], 'Joseph Thompson': ['Jorge Fox', 'Noah Johnson', 'Tucker Castro'], 'Beckett Powell': ['Jorge Fox', 'Noah Johnson', 'Tucker Castro'], 'Tobias Tanner': ['Jorge Fox', 'Noah Johnson', 'Tucker Castro'], 'Winston Bruce': ['Jorge Fox', 'Noah Johnson', 'Tucker Castro'], 'Benjamin Miller': ['Jorge Fox', 'Noah Johnson', 'Tucker Castro'], 'Zane Pena': ['Jorge Fox', 'Noah Johnson', 'Tucker Castro'], 'Rhett Barton': ['Jorge Fox', 'Noah Johnson', 'Tucker Castro'], 'Josiah Perez': ['Jorge Fox', 'Noah Johnson', 'Tucker Castro'], 'Oliver Jones': ['Jorge Fox', 'Noah Johnson', 'Tucker Castro'], 'Alexander Taylor': ['Jorge Fox', 'Noah Johnson', 'Tucker Castro'], 'Victor Hodge': ['Jorge Fox', 'Noah Johnson', 'Tucker Castro'], 'David Parker': ['Jorge Fox', 'Noah Johnson', 'Tucker Castro'], 'Patrick Olsen': ['Jorge Fox', 'Noah Johnson', 'Tucker Castro'], 'Jason Bailey': ['Jorge Fox', 'Noah Johnson', 'Tucker Castro'], 'Jeremiah Myers': ['Jorge Fox', 'Noah Johnson', 'Tucker Castro'], 'David Garcia': ['Jorge Fox', 'Noah Johnson', 'Tucker Castro'], 'Richard Harrington': ['Jorge Fox', 'Noah Johnson', 'Tucker Castro'], 'Caleb Turner': ['Jorge Fox', 'Noah Johnson', 'Tucker Castro'], 'Lucian Wu': ['Jorge Fox', 'Noah Johnson', 'Tucker Castro'], 'Ricardo Owens': ['Jorge Fox', 'Noah Johnson', 'Tucker Castro'], 'Tucker Castro': ['Jorge Fox', 'Noah Johnson', 'Tucker Castro'], 'Zander Buchanan': ['Jorge Fox', 'Noah Johnson', 'Tucker Castro'], 'Lucas Robinson': ['Jorge Fox', 'Noah Johnson', 'Tucker Castro'], 'Austin Foster': ['Jorge Fox', 'Noah Johnson', 'Tucker Castro'], 'Thomas Carter': ['Jorge Fox', 'Noah Johnson', 'Tucker Castro'], 'Killian Kent': ['Jorge Fox', 'Noah Johnson', 'Tucker Castro'], 'Harrison Howard': ['Jorge Fox', 'Noah Johnson', 'Tucker Castro'], 'Chase Wood': ['Jorge Fox', 'Noah Johnson', 'Tucker Castro'], 'Jude Graham': ['Jorge Fox', 'Noah Johnson', 'Tucker Castro'], 'Jaxson Washington': ['Jorge Fox', 'Noah Johnson', 'Tucker Castro'], 'Gideon Shea': ['Jorge Fox', 'Noah Johnson', 'Tucker Castro'], 'Leo Adams': ['Jorge Fox', 'Noah Johnson', 'Tucker Castro'], 'Emmanuel Ford': ['Jorge Fox', 'Noah Johnson', 'Tucker Castro'], 'Evan Sanchez': ['Jorge Fox', 'Noah Johnson', 'Tucker Castro'], 'Charles Diaz': ['Jorge Fox', 'Noah Johnson', 'Tucker Castro'], 'Braxton Warren': ['Jorge Fox', 'Noah Johnson', 'Tucker Castro'], 'Easton Bell': ['Jorge Fox', 'Noah Johnson', 'Tucker Castro'], 'River Ellis': ['Jorge Fox', 'Noah Johnson', 'Tucker Castro'], 'Marcus Hughes': ['Jorge Fox', 'Noah Johnson', 'Tucker Castro'], 'Elijah Moore': ['Jorge Fox', 'Noah Johnson', 'Tucker Castro'], 'Simon Cline': ['Jorge Fox', 'Noah Johnson', 'Tucker Castro'], 'Iker Fisher': ['Jorge Fox', 'Noah Johnson', 'Tucker Castro'], 'Greyson Ross': ['Jorge Fox', 'Noah Johnson', 'Tucker Castro'], 'Thaddeus Noble': ['Jorge Fox', 'Noah Johnson', 'Tucker Castro'], 'Finn Perry': ['Jorge Fox', 'Noah Johnson', 'Tucker Castro'], 'Walter Kim': ['Jorge Fox', 'Noah Johnson', 'Tucker Castro'], 'Nolan Morgan': ['Jorge Fox', 'Noah Johnson', 'Tucker Castro'], 'Axel Bennett': ['Jorge Fox', 'Noah Johnson', 'Tucker Castro'], 'Ethan Williams': ['Jorge Fox', 'Noah Johnson', 'Tucker Castro'], 'Lawrence Cervantes': ['Jorge Fox', 'Noah Johnson', 'Tucker Castro'], 'Tucker Campos': ['Jorge Fox', 'Noah Johnson', 'Tucker Castro'], 'Isaac Walker': ['Jorge Fox', 'Noah Johnson', 'Tucker Castro'], 'Abel Mendoza': ['Jorge Fox', 'Noah Johnson', 'Tucker Castro'], 'Tristan James': ['Jorge Fox', 'Noah Johnson', 'Tucker Castro'], 'Wesley Long': ['Jorge Fox', 'Noah Johnson', 'Tucker Castro'], 'Wyatt Green': ['Jorge Fox', 'Noah Johnson', 'Tucker Castro'], 'Malik Cortez': ['Jorge Fox', 'Noah Johnson', 'Tucker Castro'], 'Silas Jenkins': ['Jorge Fox', 'Noah Johnson', 'Tucker Castro'], 'Zayn Gould': ['Jorge Fox', 'Noah Johnson', 'Tucker Castro'], 'Barrett Gibson': ['Jorge Fox', 'Noah Johnson', 'Tucker Castro'], 'Caleb Davis': ['Jorge Fox', 'Noah Johnson', 'Tucker Castro'], 'Aaron Edwards': ['Jorge Fox', 'Noah Johnson', 'Tucker Castro'], 'Cole Ward': ['Jorge Fox', 'Noah Johnson', 'Tucker Castro'], 'Brody Flores': ['Jorge Fox', 'Noah Johnson', 'Tucker Castro'], 'Roman Simmons': ['Jorge Fox', 'Noah Johnson', 'Tucker Castro'], 'Ezekiel Gonzales': ['Jorge Fox', 'Noah Johnson', 'Tucker Castro'], 'Damian Harrison': ['Jorge Fox', 'Noah Johnson', 'Tucker Castro'], 'Luke Phillips': ['Jorge Fox', 'Noah Johnson', 'Tucker Castro'], 'Liam Smith': ['Jorge Fox', 'Noah Johnson', 'Tucker Castro'], 'Adrian Cook': ['Jorge Fox', 'Noah Johnson', 'Tucker Castro'], 'Ryan Hall': ['Jorge Fox', 'Noah Johnson', 'Tucker Castro'], 'Anthony Hill': ['Jorge Fox', 'Noah Johnson', 'Tucker Castro'], 'Carter Baker': ['Jorge Fox', 'Noah Johnson', 'Tucker Castro'], 'Peter Alexander': ['Jorge Fox', 'Noah Johnson', 'Tucker Castro'], 'Daniel White': ['Jorge Fox', 'Noah Johnson', 'Tucker Castro'], 'Dominic Barnes': ['Jorge Fox', 'Noah Johnson', 'Tucker Castro'], 'Donovan Steele': ['Jorge Fox', 'Noah Johnson', 'Tucker Castro'], 'Bruce Malone': ['Jorge Fox', 'Noah Johnson', 'Tucker Castro'], 'Dylan Scott': ['Jorge Fox', 'Noah Johnson', 'Tucker Castro'], 'Malcolm Knox': ['Jorge Fox', 'Noah Johnson', 'Tucker Castro'], 'Henry Wright': ['Jorge Fox', 'Noah Johnson', 'Tucker Castro'], 'Nikolai Weeks': ['Jorge Fox', 'Noah Johnson', 'Tucker Castro'], 'Bentley Price': ['Jorge Fox', 'Noah Johnson', 'Tucker Castro'], 'Jaxon Morris': ['Jorge Fox', 'Noah Johnson', 'Tucker Castro'], 'Jett Nguyen': ['Jorge Fox', 'Noah Johnson', 'Tucker Castro'], 'Mason Wilson': ['Jorge Fox', 'Noah Johnson', 'Tucker Castro'], 'Sawyer Butler': ['Jorge Fox', 'Noah Johnson', 'Tucker Castro'], 'Hunter Roberts': ['Jorge Fox', 'Noah Johnson', 'Tucker Castro'], 'Anders Crosby': ['Jorge Fox', 'Noah Johnson', 'Tucker Castro'], 'Julian King': ['Jorge Fox', 'Noah Johnson', 'Tucker Castro'], 'Noah Johnson': ['Jorge Fox', 'Noah Johnson', 'Tucker Castro'], 'Jorge Fox': ['Jorge Fox', 'Noah Johnson', 'Tucker Castro']}\n"
     ]
    }
   ],
   "source": [
    "advices = pd.read_excel(file_path, sheet_name=\"net_4_Advice\")\n",
    "participants = pd.read_excel(file_path, sheet_name=\"participants\")\n",
    "KeepColumns = ['Participant-ID', 'First-Name', 'Last-Name']\n",
    "participants = participants[KeepColumns]\n",
    "participants['Name'] = participants['First-Name'] + ' ' + participants['Last-Name']\n",
    "## ID to Name Mapping\n",
    "IDtoName = participants.set_index('Participant-ID')['Name'].to_dict()\n",
    "advices.replace(IDtoName, inplace=True)\n",
    "\n",
    "G = nx.Graph()\n",
    "\n",
    "for i in range(len(advices)):\n",
    "    G.add_edge(advices['Source'][i], advices['Target'][i])\n",
    "\n",
    "advices_data = dict()\n",
    "\n",
    "for student in G.nodes:\n",
    "    # Get the shortest paths from this student to all other students\n",
    "    paths = nx.single_source_shortest_path(G, student)\n",
    "    \n",
    "    # The closest friends are those at a distance of 2 (i.e., one intermediate node)\n",
    "    closest_advisors = sorted([(friend, len(path)) for friend, path in paths.items()], key=lambda x: x[1])[:3]\n",
    "    closest_advisors = [advisor for advisor, distance in closest_advisors]\n",
    "    advices_data[student] = closest_friends\n",
    "\n",
    "print(advices_data)\n",
    "\n",
    "with open(\"./Answering Questions/advices.json\", \"w\") as file:\n",
    "    json.dump(advices_data, file)\n",
    "\n",
    "## Save graph using spectral layout\n",
    "pos = nx.spectral_layout(G)\n",
    "nt = Network()\n",
    "nt.from_nx(G)\n",
    "\n",
    "# Set node positions manually in Pyvis\n",
    "for node, coords in pos.items():\n",
    "    for node_dict in nt.nodes:\n",
    "        if node_dict['id'] == node:\n",
    "            node_dict['x'] = coords[0]\n",
    "            node_dict['y'] = coords[1]\n",
    "            break\n",
    "# Save the graph with Spectral-like layout\n",
    "nt.save_graph(\"./Layouts/Advices.html\")"
   ]
  },
  {
   "cell_type": "markdown",
   "metadata": {},
   "source": [
    "## Which students are disrespectful towards you?"
   ]
  },
  {
   "cell_type": "code",
   "execution_count": 17,
   "metadata": {},
   "outputs": [
    {
     "name": "stdout",
     "output_type": "stream",
     "text": [
      "{'Derek Barnes': ['Derek Barnes', 'Miles Watson', 'Patrick Olsen'], 'Miles Watson': ['Miles Watson', 'Derek Barnes', 'Spencer Woodward'], 'Patrick Olsen': ['Patrick Olsen', 'Derek Barnes', 'Elias Cooper'], 'Spencer Woodward': ['Spencer Woodward', 'Miles Watson', 'Carter Baker'], 'Elias Cooper': ['Elias Cooper', 'Nikolai Weeks', 'Patrick Olsen'], 'Nikolai Weeks': ['Nikolai Weeks', 'Elias Cooper', 'Braxton Warren'], 'Jasper Luna': ['Jasper Luna', 'Victor Hodge', 'Mateo Ramirez'], 'Victor Hodge': ['Victor Hodge', 'Jasper Luna', 'Caden Novak'], 'Mateo Ramirez': ['Mateo Ramirez', 'Jasper Luna', 'Lorenzo Woods'], 'Lorenzo Woods': ['Lorenzo Woods', 'Mateo Ramirez', 'Jasper Luna'], 'Eli Collins': ['Eli Collins', 'Miles Watson', 'Nathan Allen'], 'James Anderson': ['James Anderson', 'Cole Stewart', 'Joseph Thompson'], 'Cole Stewart': ['Cole Stewart', 'James Anderson', 'Joseph Thompson'], 'King Ingram': ['King Ingram', 'Lawrence Cervantes', 'Victor Hodge'], 'Lawrence Cervantes': ['Lawrence Cervantes', 'King Ingram', 'Victor Hodge'], 'Caden Novak': ['Caden Novak', 'Andrew Martinez', 'Victor Hodge'], 'Andrew Martinez': ['Andrew Martinez', 'Caden Novak', 'Victor Hodge'], 'Bryce Montgomery': ['Bryce Montgomery', 'Michael Jackson', 'Joseph Thompson'], 'Michael Jackson': ['Michael Jackson', 'Bryce Montgomery', 'Joseph Thompson'], 'Joseph Thompson': ['Joseph Thompson', 'James Anderson', 'Miles Watson'], 'Isaac Walker': ['Isaac Walker', 'Joseph Thompson', 'James Anderson'], 'Oliver Jones': ['Oliver Jones', 'Mateo Ramirez', 'Jasper Luna'], 'Zayden Coleman': ['Zayden Coleman', 'Miles Watson', 'Derek Barnes'], 'Anthony Hill': ['Anthony Hill', 'Victor Hodge', 'Jasper Luna'], 'Rory Briggs': ['Rory Briggs', 'Miles Watson', 'Zander Buchanan'], 'Tyson Bush': ['Tyson Bush', 'Wesley Long', 'Jett Nguyen'], 'Wesley Long': ['Wesley Long', 'Tyson Bush', 'Austin Foster'], 'Jett Nguyen': ['Jett Nguyen', 'Tyson Bush', 'Chase Wood'], 'David Parker': ['David Parker', 'Mateo Ramirez', 'Peter Alexander'], 'Austin Foster': ['Austin Foster', 'Wesley Long', 'Peter Alexander'], 'Peter Alexander': ['Peter Alexander', 'Austin Foster', 'Silas Jenkins'], 'Jude Graham': ['Jude Graham', 'Miles Watson', 'Derek Barnes'], 'Braxton Warren': ['Braxton Warren', 'Nikolai Weeks', 'Chandler Parks'], 'Chandler Parks': ['Chandler Parks', 'Braxton Warren', 'Nikolai Weeks'], 'Marcus Hughes': ['Marcus Hughes', 'Miles Watson', 'Isaac Nelson'], 'Elijah Moore': ['Elijah Moore', 'Miles Watson', 'Michael Jackson'], 'Phillip Lozano': ['Phillip Lozano', 'Elijah Moore', 'Miles Watson'], 'Chase Wood': ['Chase Wood', 'Jett Nguyen', 'Tyson Bush'], 'Zander Buchanan': ['Zander Buchanan', 'Rory Briggs', 'Jason Bailey'], 'Jason Bailey': ['Jason Bailey', 'Zander Buchanan', 'Rory Briggs'], 'Logan Lewis': ['Logan Lewis', 'Miles Watson', 'Derek Barnes'], 'Isaac Nelson': ['Isaac Nelson', 'Marcus Hughes', 'Thaddeus Noble'], 'Thaddeus Noble': ['Thaddeus Noble', 'Isaac Nelson', 'Marcus Hughes'], 'Flynn Stuart': ['Flynn Stuart', 'Brody Flores'], 'Brody Flores': ['Brody Flores', 'Flynn Stuart'], 'Cole Ward': ['Cole Ward', 'Ignatius Gaines', 'Miles Watson'], 'Ignatius Gaines': ['Ignatius Gaines', 'Cole Ward', 'Miles Watson'], 'Xavier Bryant': ['Xavier Bryant', 'Miles Watson', 'Zander Buchanan'], 'Emmanuel Chambers': ['Emmanuel Chambers', 'Marcus Hughes', 'Miles Watson'], 'Bennett Sullivan': ['Bennett Sullivan', 'Axel Bennett', 'Sterling Hickman'], 'Axel Bennett': ['Axel Bennett', 'Bennett Sullivan', 'Sterling Hickman'], 'Sterling Hickman': ['Sterling Hickman', 'Bennett Sullivan', 'Peter Alexander'], 'Jack Lopez': ['Jack Lopez', 'Bennett Sullivan', 'Bentley Price'], 'Dennis Lutz': ['Dennis Lutz', 'Bennett Sullivan', 'Carter Baker'], 'Owen Hernandez': ['Owen Hernandez', 'Lawrence Cervantes', 'King Ingram'], 'Beckett Powell': ['Beckett Powell', 'Josiah Perez'], 'Josiah Perez': ['Josiah Perez', 'Beckett Powell'], 'Lucas Robinson': ['Lucas Robinson', 'Mateo Ramirez', 'Michael Jackson'], 'Silas Jenkins': ['Silas Jenkins', 'Peter Alexander', 'Austin Foster'], 'Atticus Osborne': ['Atticus Osborne', 'Peter Alexander', 'Austin Foster'], 'Jonah Russell': ['Jonah Russell', 'Peter Alexander', 'Austin Foster'], 'Cole Brooks': ['Cole Brooks', 'Miles Watson', 'Derek Barnes'], 'Simon Cline': ['Simon Cline', 'Miles Watson', 'Derek Barnes'], 'Bentley Price': ['Bentley Price', 'Jack Lopez', 'Bennett Sullivan'], 'Julian King': ['Julian King', 'Michael Jackson', 'Bryce Montgomery'], 'Carter Baker': ['Carter Baker', 'Mateo Ramirez', 'Spencer Woodward'], 'Nathan Allen': ['Nathan Allen', 'Eli Collins', 'Miles Watson'], 'Leo Adams': ['Leo Adams', 'Peter Alexander', 'Austin Foster'], 'Jaxon Morris': ['Jaxon Morris', 'Dennis Lutz', 'Bennett Sullivan']}\n"
     ]
    }
   ],
   "source": [
    "disrespects = pd.read_excel(file_path, sheet_name=\"net_5_Disrespect\")\n",
    "participants = pd.read_excel(file_path, sheet_name=\"participants\")\n",
    "KeepColumns = ['Participant-ID', 'First-Name', 'Last-Name']\n",
    "participants = participants[KeepColumns]\n",
    "participants['Name'] = participants['First-Name'] + ' ' + participants['Last-Name']\n",
    "## ID to Name Mapping\n",
    "IDtoName = participants.set_index('Participant-ID')['Name'].to_dict()\n",
    "disrespects.replace(IDtoName, inplace=True)\n",
    "\n",
    "G = nx.Graph()\n",
    "\n",
    "for i in range(len(disrespects)):\n",
    "    G.add_edge(disrespects['Source'][i], disrespects['Target'][i])\n",
    "\n",
    "disrespects_data = dict()\n",
    "\n",
    "for student in G.nodes:\n",
    "    # Get the shortest paths from this student to all other students\n",
    "    paths = nx.single_source_shortest_path(G, student)\n",
    "    \n",
    "    # The closest friends are those at a distance of 2 (i.e., one intermediate node)\n",
    "    disrespectful_students = sorted([(friend, len(path)) for friend, path in paths.items()], key=lambda x: x[1])[:3]\n",
    "    disrespectful_students = [advisor for advisor, distance in disrespectful_students]\n",
    "    disrespects_data[student] = disrespectful_students\n",
    "\n",
    "print(disrespects_data)\n",
    "\n",
    "with open(\"./Answering Questions/disrespects.json\", \"w\") as file:\n",
    "    json.dump(disrespects_data, file)\n",
    "\n",
    "## Save graph using spectral layout\n",
    "pos = nx.spectral_layout(G)\n",
    "nt = Network()\n",
    "nt.from_nx(G)\n",
    "\n",
    "# Set node positions manually in Pyvis\n",
    "for node, coords in pos.items():\n",
    "    for node_dict in nt.nodes:\n",
    "        if node_dict['id'] == node:\n",
    "            node_dict['x'] = coords[0]\n",
    "            node_dict['y'] = coords[1]\n",
    "            break\n",
    "\n",
    "# Save the graph with Spectral-like layout\n",
    "nt.save_graph(\"./Layouts/Disrespects.html\")"
   ]
  },
  {
   "cell_type": "markdown",
   "metadata": {},
   "source": [
    "## Most Popular and influential Students"
   ]
  },
  {
   "cell_type": "code",
   "execution_count": 18,
   "metadata": {},
   "outputs": [
    {
     "name": "stdout",
     "output_type": "stream",
     "text": [
      "['Rory Briggs', 'Beckett Powell', 'Patrick Olsen']\n"
     ]
    }
   ],
   "source": [
    "influentials = pd.read_excel(file_path, sheet_name=\"net_1_Influential\")\n",
    "participants = pd.read_excel(file_path, sheet_name=\"participants\")\n",
    "KeepColumns = ['Participant-ID', 'First-Name', 'Last-Name']\n",
    "participants = participants[KeepColumns]\n",
    "participants['Name'] = participants['First-Name'] + ' ' + participants['Last-Name']\n",
    "## ID to Name Mapping\n",
    "IDtoName = participants.set_index('Participant-ID')['Name'].to_dict()\n",
    "influentials.replace(IDtoName, inplace=True)\n",
    "\n",
    "G = nx.Graph()\n",
    "\n",
    "for i in range(len(influentials)):\n",
    "    G.add_edge(influentials['Source'][i], influentials['Target'][i])\n",
    "\n",
    "\n",
    "## Based on the graph, let us answer Who are the most influential students?\n",
    "## This can be done by looking at the degree centrality of each node in the graph\n",
    "degree_centrality = nx.degree_centrality(G)\n",
    "influential_students = sorted(degree_centrality.items(), key=lambda x: x[1], reverse=True)[:3]\n",
    "influential_students = [student for student, degree in influential_students]\n",
    "print(influential_students)\n",
    "\n",
    "\n",
    "\n",
    "\n",
    "\n",
    "# with open(\"./Answering Questions/disrespects.json\", \"w\") as file:\n",
    "#     json.dump(advices_data, file)\n",
    "\n",
    "# ## Save graph using spectral layout\n",
    "# pos = nx.spectral_layout(G)\n",
    "# nt = Network(notebook=True, select_menu=True)\n",
    "# nt.from_nx(G)\n",
    "\n",
    "# # Set node positions manually in Pyvis\n",
    "# for node, coords in pos.items():\n",
    "#     for node_dict in nt.nodes:\n",
    "#         if node_dict['id'] == node:\n",
    "#             node_dict['x'] = coords[0]\n",
    "#             node_dict['y'] = coords[1]\n",
    "#             break\n",
    "\n",
    "# # Save the graph with Spectral-like layout\n",
    "# nt.save_graph(\"./Layouts/Disrespects.html\")"
   ]
  },
  {
   "cell_type": "markdown",
   "metadata": {},
   "source": [
    "## Students to spend more time with"
   ]
  },
  {
   "cell_type": "code",
   "execution_count": 19,
   "metadata": {},
   "outputs": [
    {
     "name": "stdout",
     "output_type": "stream",
     "text": [
      "{'Phillip Lozano': ['Phillip Lozano', 'Anders Crosby', 'Austin Foster'], 'Anders Crosby': ['Anders Crosby', 'Phillip Lozano', 'Austin Foster'], 'Connor Young': ['Connor Young', 'Jeremiah Myers', 'Julian King'], 'Jeremiah Myers': ['Jeremiah Myers', 'Connor Young', 'Ignatius Gaines'], 'Julian King': ['Julian King', 'Connor Young', 'Jonah Russell'], 'Kieran Pruitt': ['Kieran Pruitt', 'Connor Young', 'Samuel Harris'], 'Isaac Nelson': ['Isaac Nelson', 'Connor Young', 'Noah Johnson'], 'Ignatius Gaines': ['Ignatius Gaines', 'Connor Young', 'Jack Lopez'], 'Derek Barnes': ['Derek Barnes', 'Michael Jackson', 'Bryce Montgomery'], 'Michael Jackson': ['Michael Jackson', 'Derek Barnes', 'Jude Graham'], 'Elias Cooper': ['Elias Cooper', 'Andrew Martinez', 'Killian Kent'], 'Andrew Martinez': ['Andrew Martinez', 'Elias Cooper', 'Emmanuel Ford'], 'Killian Kent': ['Killian Kent', 'Elias Cooper', 'Damian Harrison'], 'Axel Griffin': ['Axel Griffin', 'Jordan Reed', 'Zayden Coleman'], 'Jordan Reed': ['Jordan Reed', 'Axel Griffin', 'Blake Sanders'], 'Zayden Coleman': ['Zayden Coleman', 'Axel Griffin', 'Caden Novak'], 'Cameron Cox': ['Cameron Cox', 'Nikolai Weeks', 'Marcus Hughes'], 'Nikolai Weeks': ['Nikolai Weeks', 'Cameron Cox', 'Marcus Hughes'], 'Jasper Luna': ['Jasper Luna', 'Sawyer Butler', 'Sterling Hickman'], 'Sawyer Butler': ['Sawyer Butler', 'Jasper Luna', 'Alexander Taylor'], 'Sterling Hickman': ['Sterling Hickman', 'Jasper Luna', 'Dennis Lutz'], 'Jack Lopez': ['Jack Lopez', 'Ignatius Gaines', 'Axel Bennett'], 'Axel Bennett': ['Axel Bennett', 'Jack Lopez', 'Dennis Lutz'], 'Dennis Lutz': ['Dennis Lutz', 'Jack Lopez', 'Simon Cline'], 'Tucker Campos': ['Tucker Campos', 'Jack Lopez', 'Dennis Lutz'], 'Nolan Morgan': ['Nolan Morgan', 'Jack Lopez', 'Dennis Lutz'], 'William Thomas': ['William Thomas', 'Jack Lopez', 'Dennis Lutz'], 'King Ingram': ['King Ingram', 'Jack Lopez', 'Dennis Lutz'], 'Chandler Parks': ['Chandler Parks', 'Nathan Allen', 'Sawyer Butler'], 'Nathan Allen': ['Nathan Allen', 'Chandler Parks', 'Maxwell Richardson'], 'Maxwell Richardson': ['Maxwell Richardson', 'Nathan Allen', 'Alexander Taylor'], 'Alexander Taylor': ['Alexander Taylor', 'Maxwell Richardson', 'Lorenzo Woods'], 'Declan Patterson': ['Declan Patterson', 'Silas Jenkins', 'Elijah Moore'], 'Silas Jenkins': ['Silas Jenkins', 'Declan Patterson', 'Elijah Moore'], 'Lorenzo Woods': ['Lorenzo Woods', 'Bennett Sullivan', 'Caden Novak'], 'Bennett Sullivan': ['Bennett Sullivan', 'Lorenzo Woods', 'Caden Novak'], 'Caden Novak': ['Caden Novak', 'Lorenzo Woods', 'Oscar Reynolds'], 'Chase Wood': ['Chase Wood', 'Lorenzo Woods', 'Eli Collins'], 'Aaron Edwards': ['Aaron Edwards', 'Daniel White', 'Caleb Davis'], 'Daniel White': ['Daniel White', 'Aaron Edwards', 'Dominic Barnes'], 'Hendrix Huff': ['Hendrix Huff', 'Jesse Hawkins', 'Enzo Espinoza'], 'Jesse Hawkins': ['Jesse Hawkins', 'Hendrix Huff', 'Matthew Martin'], 'Enzo Espinoza': ['Enzo Espinoza', 'Hendrix Huff', 'Tyson Bush'], 'Tyson Bush': ['Tyson Bush', 'Hendrix Huff', 'Matthew Martin'], 'Oscar Reynolds': ['Oscar Reynolds', 'Hendrix Huff', 'Caden Novak'], 'Eli Collins': ['Eli Collins', 'Chase Wood', 'Walter Kim'], 'Walter Kim': ['Walter Kim', 'Eli Collins', 'Jason Bailey'], 'Maximus Cole': ['Maximus Cole', 'Eli Collins', 'Rory Briggs'], 'Logan Lewis': ['Logan Lewis', 'Eli Collins', 'Rory Briggs'], 'James Anderson': ['James Anderson', 'Cooper Kelly', 'Rory Briggs'], 'Cooper Kelly': ['Cooper Kelly', 'James Anderson', 'Cassian Jarvis'], 'Colton Henderson': ['Colton Henderson', 'Lucius Franco', 'Miguel Jordan'], 'Lucius Franco': ['Lucius Franco', 'Colton Henderson', 'Miguel Jordan'], 'Jonah Russell': ['Jonah Russell', 'Connor Young', 'Julian King'], 'Jackson Rodriguez': ['Jackson Rodriguez', 'Jonathan Evans', 'Caleb Davis'], 'Jonathan Evans': ['Jonathan Evans', 'Jackson Rodriguez', 'Caleb Davis'], 'Zayn Gould': ['Zayn Gould', 'Patrick Olsen', 'Killian Kent'], 'Patrick Olsen': ['Patrick Olsen', 'Zayn Gould', 'Zayden Coleman'], 'Matthew Martin': ['Matthew Martin', 'Tyson Bush', 'Jesse Hawkins'], 'Mateo Ramirez': ['Mateo Ramirez', 'River Ellis', 'Joseph Thompson'], 'River Ellis': ['River Ellis', 'Mateo Ramirez', 'Joseph Thompson'], 'Rory Briggs': ['Rory Briggs', 'Maximus Cole', 'Chase Wood'], 'Bryce Montgomery': ['Bryce Montgomery', 'Derek Barnes', 'Jude Graham'], 'Joseph Thompson': ['Joseph Thompson', 'Cassian Jarvis', 'Winston Bruce'], 'Cassian Jarvis': ['Cassian Jarvis', 'Joseph Thompson', 'Cooper Kelly'], 'Winston Bruce': ['Winston Bruce', 'Joseph Thompson', 'Beckett Powell'], 'Levi Mitchell': ['Levi Mitchell', 'Joseph Thompson', 'Zane Pena'], 'Beckett Powell': ['Beckett Powell', 'Joseph Thompson', 'Carlos Torres'], 'Ryan Hall': ['Ryan Hall', 'Joseph Thompson', 'Damian Harrison'], 'Samuel Harris': ['Samuel Harris', 'Joseph Thompson', 'Christopher Clark'], 'Ronald Salazar': ['Ronald Salazar', 'Joseph Thompson', 'Raphael Barron'], 'Oliver Jones': ['Oliver Jones', 'Lorenzo Woods', 'Hunter Roberts'], 'Hunter Roberts': ['Hunter Roberts', 'Oliver Jones', 'David Parker'], 'Zane Pena': ['Zane Pena', 'Levi Mitchell', 'Harrison Howard'], 'Harrison Howard': ['Harrison Howard', 'Zane Pena', 'Levi Mitchell'], 'Marcellus Tovar': ['Marcellus Tovar', 'Bentley Price', 'Christopher Clark'], 'Bentley Price': ['Bentley Price', 'Marcellus Tovar', 'Samuel Harris'], 'Christopher Clark': ['Christopher Clark', 'Marcellus Tovar', 'Samuel Harris'], 'Atticus Osborne': ['Atticus Osborne', 'Marcellus Tovar', 'Zayden Coleman'], 'Miguel Jordan': ['Miguel Jordan', 'Mason Wilson', 'Lucius Franco'], 'Mason Wilson': ['Mason Wilson', 'Miguel Jordan', 'Chance Wallace'], 'Zander Buchanan': ['Zander Buchanan', 'Zayden Coleman', 'Isaac Walker'], 'Christian Campbell': ['Christian Campbell', 'Rory Briggs', 'Leon Kirk'], 'Richard Harrington': ['Richard Harrington', 'Lucian Wu', 'Jaxon Morris'], 'Lucian Wu': ['Lucian Wu', 'Richard Harrington', 'Ezekiel Gonzales'], 'Jaxon Morris': ['Jaxon Morris', 'Richard Harrington', 'Caleb Turner'], 'Caleb Turner': ['Caleb Turner', 'Carter Baker', 'Jaxon Morris'], 'Carter Baker': ['Carter Baker', 'Caleb Turner', 'Daniel White'], 'Austin Foster': ['Austin Foster', 'Tyson Bush', 'Anders Crosby'], 'David Parker': ['David Parker', 'Lucas Robinson', 'Hunter Roberts'], 'Lucas Robinson': ['Lucas Robinson', 'David Parker', 'Alexander Taylor'], 'Thomas Carter': ['Thomas Carter', 'Austin Foster', 'Braxton Warren'], 'Anthony Hill': ['Anthony Hill', 'Austin Foster', 'Ezekiel Gonzales'], 'Simon Cline': ['Simon Cline', 'Dennis Lutz', 'Elijah Moore'], 'Elijah Moore': ['Elijah Moore', 'Dennis Lutz', 'Simon Cline'], 'Jude Graham': ['Jude Graham', 'Bryce Montgomery', 'Derek Barnes'], 'Tate Peck': ['Tate Peck', 'Samuel Harris', 'Leo Adams'], 'Iker Fisher': ['Iker Fisher', 'Samuel Harris', 'Elijah Moore'], 'Cole Brooks': ['Cole Brooks', 'Samuel Harris', 'Tristan James'], 'Carlos Torres': ['Carlos Torres', 'Elliot Hayes', 'Levi Mitchell'], 'Elliot Hayes': ['Elliot Hayes', 'Carlos Torres', 'Damon Banks'], 'Chance Wallace': ['Chance Wallace', 'Carlos Torres', 'Levi Mitchell'], 'Jaxson Washington': ['Jaxson Washington', 'Gideon Shea', 'Jeremiah Murphy'], 'Gideon Shea': ['Gideon Shea', 'Jaxson Washington', 'Jeremiah Murphy'], 'Leon Kirk': ['Leon Kirk', 'Christian Campbell', 'Tristan James'], 'Tristan James': ['Tristan James', 'Leon Kirk', 'Logan Lewis'], 'Aiden Brown': ['Aiden Brown', 'Leon Kirk', 'Logan Lewis'], 'Jeremiah Murphy': ['Jeremiah Murphy', 'Gideon Shea', 'Damian Harrison'], 'Leo Adams': ['Leo Adams', 'Gideon Shea', 'Jeremiah Murphy'], 'Cole Stewart': ['Cole Stewart', 'Gideon Shea', 'Cassian Jarvis'], 'Emmanuel Ford': ['Emmanuel Ford', 'Flynn Stuart', 'Brody Flores'], 'Flynn Stuart': ['Flynn Stuart', 'Emmanuel Ford', 'River Ellis'], 'Brody Flores': ['Brody Flores', 'Emmanuel Ford', 'Isaac Nelson'], 'Kingston Hamilton': ['Kingston Hamilton', 'Emmanuel Ford', 'Dominic Rogers'], 'Dominic Rogers': ['Dominic Rogers', 'Emmanuel Ford', 'Kingston Hamilton'], 'Emmanuel Chambers': ['Emmanuel Chambers', 'Cassian Jarvis', 'Easton Bell'], 'Evan Sanchez': ['Evan Sanchez', 'Charles Diaz', 'Titus Serrano'], 'Charles Diaz': ['Charles Diaz', 'Evan Sanchez', 'Silas Jenkins'], 'Titus Serrano': ['Titus Serrano', 'Evan Sanchez', 'Owen Hernandez'], 'Braxton Warren': ['Braxton Warren', 'Thomas Carter', 'Sebastian Gonzalez'], 'Sebastian Gonzalez': ['Sebastian Gonzalez', 'Braxton Warren', 'Thomas Carter'], 'Raphael Barron': ['Raphael Barron', 'Ronald Salazar', 'River Ellis'], 'Marcus Hughes': ['Marcus Hughes', 'Benjamin Miller', 'Gabriel Lee'], 'Benjamin Miller': ['Benjamin Miller', 'Marcus Hughes', 'Tucker Castro'], 'Gabriel Lee': ['Gabriel Lee', 'Marcus Hughes', 'Sterling Hickman'], 'Ricardo Owens': ['Ricardo Owens', 'Marcus Hughes', 'Benjamin Miller'], 'Tucker Castro': ['Tucker Castro', 'Marcus Hughes', 'Benjamin Miller'], 'Greyson Ross': ['Greyson Ross', 'Elijah Moore', 'Atticus Osborne'], 'Josiah Perez': ['Josiah Perez', 'Chase Wood', 'Isaac Walker'], 'Jason Bailey': ['Jason Bailey', 'Walter Kim', 'Easton Bell'], 'Easton Bell': ['Easton Bell', 'Jason Bailey', 'Cooper Kelly'], 'Wesley Long': ['Wesley Long', 'Jason Bailey', 'Zander Buchanan'], 'David Garcia': ['David Garcia', 'Nolan Morgan', 'Zayden Coleman'], 'Damian Harrison': ['Damian Harrison', 'Oscar Reynolds', 'Caden Novak'], 'Isaac Walker': ['Isaac Walker', 'Easton Bell', 'Patrick Olsen'], 'Adam Rivera': ['Adam Rivera', 'Zander Buchanan', 'Emmanuel Chambers'], 'Thaddeus Noble': ['Thaddeus Noble', 'Emmanuel Chambers', 'Cooper Kelly'], 'Dominic Barnes': ['Dominic Barnes', 'Silas Jenkins', 'Levi Mitchell'], 'Caleb Davis': ['Caleb Davis', 'Aaron Edwards', 'Jonathan Evans'], 'Noah Johnson': ['Noah Johnson', 'Isaac Nelson', 'Benjamin Miller'], 'Cole Ward': ['Cole Ward', 'Matthew Martin', 'Tyson Bush'], 'Damon Banks': ['Damon Banks', 'Christopher Clark', 'William Thomas'], 'Tobias Tanner': ['Tobias Tanner', 'Benjamin Miller', 'Gabriel Lee'], 'Ezekiel Gonzales': ['Ezekiel Gonzales', 'Lucian Wu', 'Anthony Hill'], 'Liam Smith': ['Liam Smith', 'Cooper Kelly', 'Emmanuel Chambers'], 'Adrian Cook': ['Adrian Cook', 'Bennett Sullivan', 'Dominic Barnes'], 'Blake Sanders': ['Blake Sanders', 'Malik Cortez', 'Jordan Reed'], 'Malik Cortez': ['Malik Cortez', 'Blake Sanders', 'Jordan Reed'], 'Lincoln Peterson': ['Lincoln Peterson', 'Blake Sanders', 'Malik Cortez'], 'Malcolm Knox': ['Malcolm Knox', 'Jonathan Evans', 'Wyatt Green'], 'Owen Hernandez': ['Owen Hernandez', 'Evan Sanchez', 'Titus Serrano'], 'Lawrence Cervantes': ['Lawrence Cervantes', 'Donovan Steele', 'Gabriel Lee'], 'Donovan Steele': ['Donovan Steele', 'Lawrence Cervantes', 'Ronald Salazar'], 'Peter Alexander': ['Peter Alexander', 'Carter Baker', 'Jaxon Morris'], 'Bruce Malone': ['Bruce Malone', 'Levi Mitchell', 'River Ellis'], 'Gabriel Gray': ['Gabriel Gray', 'Simon Cline', 'Barrett Gibson'], 'Wyatt Green': ['Wyatt Green', 'Malcolm Knox', 'Jaxon Morris'], 'Barrett Gibson': ['Barrett Gibson', 'Gabriel Gray', 'Silas Jenkins'], 'Finn Perry': ['Finn Perry', 'Gabriel Gray', 'Simon Cline'], 'Ethan Williams': ['Ethan Williams', 'Nathan Allen', 'Chandler Parks'], 'Jorge Fox': ['Jorge Fox', 'Noah Johnson', 'Tucker Castro']}\n"
     ]
    }
   ],
   "source": [
    "student_times = pd.read_excel(file_path, sheet_name=\"net_3_MoreTime\")\n",
    "participants = pd.read_excel(file_path, sheet_name=\"participants\")\n",
    "KeepColumns = ['Participant-ID', 'First-Name', 'Last-Name']\n",
    "participants = participants[KeepColumns]\n",
    "participants['Name'] = participants['First-Name'] + ' ' + participants['Last-Name']\n",
    "## ID to Name Mapping\n",
    "IDtoName = participants.set_index('Participant-ID')['Name'].to_dict()\n",
    "student_times.replace(IDtoName, inplace=True)\n",
    "\n",
    "G = nx.Graph()\n",
    "\n",
    "for i in range(len(student_times)):\n",
    "    G.add_edge(student_times['Source'][i], student_times['Target'][i])\n",
    "\n",
    "times_data = dict()\n",
    "\n",
    "for student in G.nodes:\n",
    "    # Get the shortest paths from this student to all other students\n",
    "    paths = nx.single_source_shortest_path(G, student)\n",
    "    \n",
    "    # The closest friends are those at a distance of 2 (i.e., one intermediate node)\n",
    "    preffered_students = sorted([(friend, len(path)) for friend, path in paths.items()], key=lambda x: x[1])[:3]\n",
    "    preffered_students = [advisor for advisor, distance in preffered_students]\n",
    "    times_data[student] = preffered_students\n",
    "\n",
    "print(times_data)\n",
    "\n",
    "with open(\"./Answering Questions/spend_times.json\", \"w\") as file:\n",
    "    json.dump(times_data, file)\n",
    "\n",
    "## Save graph using spectral layout\n",
    "pos = nx.spectral_layout(G)\n",
    "nt = Network()\n",
    "nt.from_nx(G)\n",
    "\n",
    "# Set node positions manually in Pyvis\n",
    "for node, coords in pos.items():\n",
    "    for node_dict in nt.nodes:\n",
    "        if node_dict['id'] == node:\n",
    "            node_dict['x'] = coords[0]\n",
    "            node_dict['y'] = coords[1]\n",
    "            break\n",
    "\n",
    "# Save the graph with Spectral-like layout\n",
    "nt.save_graph(\"./Layouts/Spend_Times.html\")"
   ]
  },
  {
   "cell_type": "markdown",
   "metadata": {},
   "source": [
    "## Students providing Meaningful Feedback"
   ]
  },
  {
   "cell_type": "code",
   "execution_count": 20,
   "metadata": {},
   "outputs": [
    {
     "name": "stdout",
     "output_type": "stream",
     "text": [
      "{'Connor Young': ['Connor Young', 'Sebastian Gonzalez', 'Ignatius Gaines'], 'Sebastian Gonzalez': ['Sebastian Gonzalez', 'Connor Young', 'Ignatius Gaines'], 'Ignatius Gaines': ['Ignatius Gaines', 'Connor Young', 'Matthew Martin'], 'Derek Barnes': ['Derek Barnes', 'Zayden Coleman', 'Bryce Montgomery'], 'Zayden Coleman': ['Zayden Coleman', 'Derek Barnes', 'Caden Novak'], 'Kingston Hamilton': ['Kingston Hamilton', 'Flynn Stuart', 'Dominic Rogers'], 'Spencer Woodward': ['Spencer Woodward', 'Jason Bailey', 'Patrick Olsen'], 'Jason Bailey': ['Jason Bailey', 'Spencer Woodward', 'Patrick Olsen'], 'Elias Cooper': ['Elias Cooper', 'Andrew Martinez'], 'Andrew Martinez': ['Andrew Martinez', 'Elias Cooper'], 'Cameron Cox': ['Cameron Cox', 'Jonathan Evans', 'Raphael Barron'], 'Jonathan Evans': ['Jonathan Evans', 'Cameron Cox', 'Raphael Barron'], 'Rhett Barton': ['Rhett Barton', 'Levi Mitchell', 'Beckett Powell'], 'Levi Mitchell': ['Levi Mitchell', 'Rhett Barton', 'Zane Pena'], 'Beckett Powell': ['Beckett Powell', 'Rhett Barton', 'Joseph Thompson'], 'Elliot Hayes': ['Elliot Hayes', 'Rhett Barton', 'Carter Baker'], 'Carlos Torres': ['Carlos Torres', 'Rhett Barton', 'Levi Mitchell'], 'Jasper Luna': ['Jasper Luna', 'Nathan Allen', 'Chandler Parks'], 'Nathan Allen': ['Nathan Allen', 'Jasper Luna', 'Chandler Parks'], 'Jesse Hawkins': ['Jesse Hawkins', 'Tyson Bush', 'Austin Foster'], 'Tyson Bush': ['Tyson Bush', 'Jesse Hawkins', 'Matthew Martin'], 'Austin Foster': ['Austin Foster', 'Jesse Hawkins', 'Tyson Bush'], 'Hendrix Huff': ['Hendrix Huff', 'Jesse Hawkins', 'Jeremiah Murphy'], 'Jack Lopez': ['Jack Lopez', 'Gabriel Lee', 'William Thomas'], 'Gabriel Lee': ['Gabriel Lee', 'Jack Lopez', 'Lawrence Cervantes'], 'William Thomas': ['William Thomas', 'Jack Lopez', 'Dennis Lutz'], 'Dennis Lutz': ['Dennis Lutz', 'Jack Lopez', 'Sterling Hickman'], 'Kieran Pruitt': ['Kieran Pruitt', 'Jack Lopez', 'Richard Harrington'], 'Chandler Parks': ['Chandler Parks', 'Nathan Allen', 'Jasper Luna'], 'Declan Patterson': ['Declan Patterson', 'Lincoln Peterson', 'Chance Wallace'], 'Lincoln Peterson': ['Lincoln Peterson', 'Declan Patterson', 'Chance Wallace'], 'Chance Wallace': ['Chance Wallace', 'Declan Patterson', 'Carlos Torres'], 'Lorenzo Woods': ['Lorenzo Woods', 'Bennett Sullivan', 'Caden Novak'], 'Bennett Sullivan': ['Bennett Sullivan', 'Lorenzo Woods', 'Caden Novak'], 'Caden Novak': ['Caden Novak', 'Lorenzo Woods', 'Zayden Coleman'], 'Jeremiah Murphy': ['Jeremiah Murphy', 'Hendrix Huff', 'Gideon Shea'], 'Enzo Espinoza': ['Enzo Espinoza', 'Hendrix Huff', 'Jesse Hawkins'], 'James Anderson': ['James Anderson', 'Tristan James', 'Isaac Walker'], 'Tristan James': ['Tristan James', 'James Anderson', 'Isaac Walker'], 'Colton Henderson': ['Colton Henderson', 'Lucius Franco'], 'Lucius Franco': ['Lucius Franco', 'Colton Henderson'], 'Leo Brewer': ['Leo Brewer', 'Blake Sanders'], 'Blake Sanders': ['Blake Sanders', 'Leo Brewer'], 'Jackson Rodriguez': ['Jackson Rodriguez', 'Joseph Thompson', 'Isaac Walker'], 'Joseph Thompson': ['Joseph Thompson', 'Jackson Rodriguez', 'Samuel Harris'], 'Zayn Gould': ['Zayn Gould', 'Killian Kent', 'Dylan Scott'], 'Killian Kent': ['Killian Kent', 'Zayn Gould', 'Dylan Scott'], 'Matthew Martin': ['Matthew Martin', 'Hendrix Huff', 'Ignatius Gaines'], 'Mateo Ramirez': ['Mateo Ramirez', 'Ronald Salazar', 'River Ellis'], 'Ronald Salazar': ['Ronald Salazar', 'Mateo Ramirez', 'River Ellis'], 'Maximus Cole': ['Maximus Cole', 'Logan Lewis', 'Rory Briggs'], 'Logan Lewis': ['Logan Lewis', 'Maximus Cole', 'Rory Briggs'], 'Bryce Montgomery': ['Bryce Montgomery', 'Derek Barnes', 'Alexander Taylor'], 'Alexander Taylor': ['Alexander Taylor', 'Bryce Montgomery', 'Oliver Jones'], 'Jude Graham': ['Jude Graham', 'Bryce Montgomery', 'Derek Barnes'], 'Samuel Harris': ['Samuel Harris', 'Joseph Thompson', 'Christopher Clark'], 'Winston Bruce': ['Winston Bruce', 'Joseph Thompson', 'Levi Mitchell'], 'Oliver Jones': ['Oliver Jones', 'Alexander Taylor', 'Nathan Allen'], 'Zane Pena': ['Zane Pena', 'Levi Mitchell', 'Beckett Powell'], 'Axel Griffin': ['Axel Griffin', 'Zayden Coleman', 'Derek Barnes'], 'Cole Ward': ['Cole Ward', 'Zayden Coleman', 'Matthew Martin'], 'Rory Briggs': ['Rory Briggs', 'Maximus Cole', 'Logan Lewis'], 'Jeremiah Myers': ['Jeremiah Myers', 'Ignatius Gaines', 'Connor Young'], 'Richard Harrington': ['Richard Harrington', 'Caleb Turner', 'Kieran Pruitt'], 'Caleb Turner': ['Caleb Turner', 'Richard Harrington', 'Marcus Hughes'], 'Lucian Wu': ['Lucian Wu', 'Richard Harrington', 'Austin Foster'], 'Oscar Reynolds': ['Oscar Reynolds', 'Tyson Bush', 'Damian Harrison'], 'David Parker': ['David Parker', 'Zander Buchanan', 'Adam Rivera'], 'Zander Buchanan': ['Zander Buchanan', 'David Parker', 'Adam Rivera'], 'Anthony Hill': ['Anthony Hill', 'Austin Foster', 'Carter Baker'], 'Sterling Hickman': ['Sterling Hickman', 'Dennis Lutz', 'Jack Lopez'], 'Christopher Clark': ['Christopher Clark', 'Samuel Harris', 'Jorge Fox'], 'Cole Brooks': ['Cole Brooks', 'Samuel Harris', 'Hayden West'], 'Gideon Shea': ['Gideon Shea', 'Jeremiah Murphy', 'Leo Adams'], 'Leo Adams': ['Leo Adams', 'Gideon Shea', 'Silas Jenkins'], 'Jaxson Washington': ['Jaxson Washington', 'Gideon Shea', 'Jeremiah Murphy'], 'Braxton Warren': ['Braxton Warren', 'Thomas Carter', 'Killian Kent'], 'Thomas Carter': ['Thomas Carter', 'Braxton Warren', 'Killian Kent'], 'Marcus Hughes': ['Marcus Hughes', 'Beckett Powell', 'Caleb Turner'], 'Elijah Moore': ['Elijah Moore', 'Simon Cline', 'Iker Fisher'], 'Simon Cline': ['Simon Cline', 'Elijah Moore', 'Ryan Hall'], 'Iker Fisher': ['Iker Fisher', 'Elijah Moore', 'Ryan Hall'], 'Greyson Ross': ['Greyson Ross', 'Elijah Moore', 'Simon Cline'], 'Chase Wood': ['Chase Wood', 'Thaddeus Noble', 'Lorenzo Woods'], 'Thaddeus Noble': ['Thaddeus Noble', 'Chase Wood', 'Lorenzo Woods'], 'Patrick Olsen': ['Patrick Olsen', 'Jason Bailey', 'Spencer Woodward'], 'Easton Bell': ['Easton Bell', 'Jason Bailey', 'Levi Mitchell'], 'Josiah Perez': ['Josiah Perez', 'Jason Bailey', 'Spencer Woodward'], 'Finn Perry': ['Finn Perry', 'Walter Kim', 'Zander Buchanan'], 'Walter Kim': ['Walter Kim', 'Finn Perry', 'Zander Buchanan'], 'Damian Harrison': ['Damian Harrison', 'Oscar Reynolds', 'Ezekiel Gonzales'], 'Raphael Barron': ['Raphael Barron', 'Easton Bell', 'Damon Banks'], 'Isaac Walker': ['Isaac Walker', 'Tristan James', 'Jackson Rodriguez'], 'Adam Rivera': ['Adam Rivera', 'Zander Buchanan', 'Tristan James'], 'Wyatt Green': ['Wyatt Green', 'Zander Buchanan', 'Malcolm Knox'], 'Silas Jenkins': ['Silas Jenkins', 'Barrett Gibson', 'Leo Adams'], 'Barrett Gibson': ['Barrett Gibson', 'Silas Jenkins', 'Charles Diaz'], 'River Ellis': ['River Ellis', 'Ronald Salazar', 'Lawrence Cervantes'], 'Caleb Davis': ['Caleb Davis', 'Aaron Edwards'], 'Aaron Edwards': ['Aaron Edwards', 'Caleb Davis'], 'Isaac Nelson': ['Isaac Nelson', 'Levi Mitchell', 'Rhett Barton'], 'Dominic Rogers': ['Dominic Rogers', 'Flynn Stuart', 'Kingston Hamilton'], 'Flynn Stuart': ['Flynn Stuart', 'Dominic Rogers', 'Kingston Hamilton'], 'Damon Banks': ['Damon Banks', 'Raphael Barron', 'Easton Bell'], 'Benjamin Miller': ['Benjamin Miller', 'Levi Mitchell', 'Easton Bell'], 'Ezekiel Gonzales': ['Ezekiel Gonzales', 'Caden Novak', 'Damian Harrison'], 'Luke Phillips': ['Luke Phillips', 'Zayden Coleman', 'Derek Barnes'], 'Xavier Bryant': ['Xavier Bryant', 'Levi Mitchell', 'Rhett Barton'], 'Liam Smith': ['Liam Smith', 'Beckett Powell', 'Malcolm Knox'], 'Emmanuel Chambers': ['Emmanuel Chambers', 'Cooper Kelly'], 'Cooper Kelly': ['Cooper Kelly', 'Emmanuel Chambers'], 'Brody Flores': ['Brody Flores', 'Damian Harrison', 'Oscar Reynolds'], 'David Garcia': ['David Garcia', 'Nolan Morgan', 'Ryan Hall'], 'Nolan Morgan': ['Nolan Morgan', 'David Garcia', 'Ryan Hall'], 'Ryan Hall': ['Ryan Hall', 'David Garcia', 'Simon Cline'], 'Carter Baker': ['Carter Baker', 'Anthony Hill', 'Peter Alexander'], 'Peter Alexander': ['Peter Alexander', 'Anthony Hill', 'Carter Baker'], 'Lucas Robinson': ['Lucas Robinson', 'Alexander Taylor', 'Nathan Allen'], 'Lawrence Cervantes': ['Lawrence Cervantes', 'Gabriel Lee', 'River Ellis'], 'Jaxon Morris': ['Jaxon Morris', 'Peter Alexander', 'Levi Mitchell'], 'Hayden West': ['Hayden West', 'Cole Brooks', 'Samuel Harris'], 'Dylan Scott': ['Dylan Scott', 'Killian Kent', 'Zayn Gould'], 'Leon Kirk': ['Leon Kirk', 'Ignatius Gaines', 'Connor Young'], 'Malcolm Knox': ['Malcolm Knox', 'Wyatt Green', 'Liam Smith'], 'Bentley Price': ['Bentley Price', 'Raphael Barron', 'Damon Banks'], 'Gabriel Gray': ['Gabriel Gray', 'Jesse Hawkins', 'Tyson Bush'], 'Roman Simmons': ['Roman Simmons', 'Adam Rivera', 'Abel Mendoza'], 'Abel Mendoza': ['Abel Mendoza', 'Roman Simmons', 'Adam Rivera'], 'Anders Crosby': ['Anders Crosby', 'Killian Kent', 'Zayn Gould'], 'Julian King': ['Julian King', 'Samuel Harris', 'Bentley Price'], 'Cole Stewart': ['Cole Stewart', 'Joseph Thompson', 'Jackson Rodriguez'], 'Noah Johnson': ['Noah Johnson', 'Tucker Castro', 'Jackson Rodriguez'], 'Tucker Castro': ['Tucker Castro', 'Noah Johnson', 'Jorge Fox'], 'Jorge Fox': ['Jorge Fox', 'Noah Johnson', 'Christopher Clark'], 'Nikolai Weeks': ['Nikolai Weeks', 'Jonathan Evans', 'Cameron Cox'], 'Malik Cortez': ['Malik Cortez', 'River Ellis', 'Ronald Salazar'], 'Charles Diaz': ['Charles Diaz', 'Barrett Gibson', 'Silas Jenkins'], 'Dominic Barnes': ['Dominic Barnes', 'Jaxon Morris', 'Peter Alexander'], 'Daniel White': ['Daniel White', 'Jaxon Morris', 'Peter Alexander']}\n"
     ]
    }
   ],
   "source": [
    "feedbacks = pd.read_excel(file_path, sheet_name=\"net_2_Feedback\")\n",
    "participants = pd.read_excel(file_path, sheet_name=\"participants\")\n",
    "KeepColumns = ['Participant-ID', 'First-Name', 'Last-Name']\n",
    "participants = participants[KeepColumns]\n",
    "participants['Name'] = participants['First-Name'] + ' ' + participants['Last-Name']\n",
    "## ID to Name Mapping\n",
    "IDtoName = participants.set_index('Participant-ID')['Name'].to_dict()\n",
    "feedbacks.replace(IDtoName, inplace=True)\n",
    "\n",
    "G = nx.Graph()\n",
    "\n",
    "for i in range(len(feedbacks)):\n",
    "    G.add_edge(feedbacks['Source'][i], feedbacks['Target'][i])\n",
    "\n",
    "feedbacks_data = dict()\n",
    "\n",
    "for student in G.nodes:\n",
    "    # Get the shortest paths from this student to all other students\n",
    "    paths = nx.single_source_shortest_path(G, student)\n",
    "    \n",
    "    # The closest friends are those at a distance of 2 (i.e., one intermediate node)\n",
    "    preffered_students = sorted([(friend, len(path)) for friend, path in paths.items()], key=lambda x: x[1])[:3]\n",
    "    preffered_students = [advisor for advisor, distance in preffered_students]\n",
    "    feedbacks_data[student] = preffered_students\n",
    "\n",
    "print(feedbacks_data)\n",
    "\n",
    "with open(\"./Answering Questions/feedbacks.json\", \"w\") as file:\n",
    "    json.dump(feedbacks_data, file)\n",
    "\n",
    "## Save graph using spectral layout\n",
    "pos = nx.spectral_layout(G)\n",
    "nt = Network()\n",
    "nt.from_nx(G)\n",
    "\n",
    "# Set node positions manually in Pyvis\n",
    "for node, coords in pos.items():\n",
    "    for node_dict in nt.nodes:\n",
    "        if node_dict['id'] == node:\n",
    "            node_dict['x'] = coords[0]\n",
    "            node_dict['y'] = coords[1]\n",
    "            break\n",
    "\n",
    "# Save the graph with Spectral-like layout\n",
    "nt.save_graph(\"./Layouts/feedbacks.html\")"
   ]
  },
  {
   "cell_type": "markdown",
   "metadata": {},
   "source": [
    "## Participating in School Activities"
   ]
  },
  {
   "cell_type": "code",
   "execution_count": 21,
   "metadata": {},
   "outputs": [
    {
     "name": "stdout",
     "output_type": "stream",
     "text": [
      "{'Aaron Edwards': ['Fitness/Health Club'], 'Adam Rivera': ['Community Service Club', 'Math Club'], 'Adrian Cook': ['Astronomy Club', 'Diversity and Inclusion Club'], 'Aiden Brown': ['National Honor Society'], 'Alexander Taylor': ['Photography Club'], 'Anders Crosby': ['Film Club', 'Astronomy Club', 'Diversity and Inclusion Club'], 'Andrew Martinez': ['National Honor Society', 'Science Club', 'Film Club'], 'Anthony Hill': ['Photography Club', 'Debate Team'], 'Atticus Osborne': ['Photography Club', 'National Honor Society'], 'Austin Foster': ['Gardening Club', 'Photography Club'], 'Axel Bennett': ['Photography Club'], 'Axel Griffin': ['Photography Club'], 'Barrett Gibson': ['National Honor Society'], 'Beckett Powell': ['Chess Team', 'Debate Team', 'National Honor Society', 'History Club', 'Technology Club'], 'Benjamin Miller': ['Technology Club', 'History Club'], 'Bennett Sullivan': ['Photography Club', 'Science Club', 'Gardening Club'], 'Bentley Price': ['Fitness/Health Club', 'Math Club', 'Astronomy Club'], 'Blake Sanders': ['Science Club', 'Photography Club'], 'Braxton Warren': ['Astronomy Club'], 'Brody Flores': ['Photography Club'], 'Bruce Malone': ['Fitness/Health Club', 'Math Club'], 'Bryce Montgomery': ['Film Club', 'Chess Team', 'Diversity and Inclusion Club', 'Astronomy Club'], 'Caden Novak': ['National Honor Society'], 'Caleb Davis': ['Fitness/Health Club'], 'Caleb Turner': ['Astronomy Club', 'Photography Club'], 'Cameron Cox': ['Fitness/Health Club'], 'Carter Baker': ['Photography Club', 'Astronomy Club', 'Chess Team', 'Technology Club'], 'Cassian Jarvis': ['Fitness/Health Club', 'Math Club'], 'Chance Wallace': ['Diversity and Inclusion Club'], 'Chandler Parks': ['Culinary Club', 'Anime Club'], 'Chase Wood': ['Fitness/Health Club', 'Culinary Club'], 'Christopher Clark': ['Community Service Club'], 'Cole Brooks': ['Fitness/Health Club', 'Gardening Club'], 'Cole Ward': ['Photography Club'], 'Colton Henderson': ['National Honor Society', 'Psychology Club'], 'Connor Young': ['Photography Club', 'Gardening Club'], 'Cooper Kelly': ['Fitness/Health Club'], 'Damian Harrison': ['Photography Club'], 'Damon Banks': ['National Honor Society', 'Culinary Club', 'Astronomy Club', 'Debate Team'], 'Daniel White': ['Film Club', 'Psychology Club', 'Environmental Club'], 'David Garcia': ['National Honor Society', 'Gardening Club', 'Math Club'], 'David Parker': ['Environmental Club', 'Diversity and Inclusion Club'], 'Declan Patterson': ['Photography Club', 'Gardening Club'], 'Dennis Lutz': ['Fitness/Health Club', 'Environmental Club', 'Psychology Club', 'Chess Team', 'Gardening Club'], 'Derek Barnes': ['Diversity and Inclusion Club', 'Gardening Club'], 'Dominic Barnes': ['Photography Club'], 'Dominic Rogers': ['Diversity and Inclusion Club'], 'Donovan Steele': ['Community Service Club'], 'Easton Bell': ['Astronomy Club'], 'Eli Collins': ['Fitness/Health Club', 'Math Club'], 'Elias Cooper': ['Diversity and Inclusion Club'], 'Emmanuel Chambers': ['Fitness/Health Club', 'Math Club'], 'Emmanuel Ford': ['Gardening Club', 'Photography Club', 'Science Club'], 'Enzo Espinoza': ['National Honor Society'], 'Ezekiel Gonzales': ['Photography Club'], 'Flynn Stuart': ['Fitness/Health Club', 'Culinary Club', 'Astronomy Club', 'Science Club'], 'Gabriel Gray': ['National Honor Society'], 'Gabriel Lee': ['Astronomy Club', 'National Honor Society', 'Gardening Club'], 'Gideon Shea': ['Community Service Club', 'Technology Club'], 'Greyson Ross': ['Photography Club'], 'Hendrix Huff': ['Fitness/Health Club'], 'Hunter Roberts': ['Diversity and Inclusion Club', 'Photography Club'], 'Isaac Nelson': ['Photography Club', 'Astronomy Club', 'Film Club', 'Debate Team'], 'Isaac Walker': ['Fitness/Health Club', 'Math Club'], 'Jack Lopez': ['Astronomy Club', 'Environmental Club', 'Fitness/Health Club', 'Gardening Club'], 'Jackson Rodriguez': ['Fitness/Health Club'], 'James Anderson': ['Fitness/Health Club', 'Math Club'], 'Jason Bailey': ['Community Service Club', 'Technology Club'], 'Jasper Luna': ['Science Club', 'National Honor Society'], 'Jaxon Morris': ['Photography Club', 'Astronomy Club', 'Debate Team'], 'Jaxson Washington': ['Photography Club'], 'Jeremiah Murphy': ['Community Service Club'], 'Jeremiah Myers': ['Photography Club', 'Technology Club'], 'Jesse Hawkins': ['Photography Club'], 'Jett Nguyen': ['Yoga Club'], 'Jonathan Evans': ['Math Club', 'Fitness/Health Club'], 'Jordan Reed': ['Fitness/Health Club', 'Math Club'], 'Jorge Fox': ['Photography Club', 'Technology Club', 'Model United Nations (MUN)'], 'Joseph Thompson': ['Astronomy Club', 'Environmental Club', 'Debate Team', 'Math Club', 'Fitness/Health Club'], 'Josiah Perez': ['Community Service Club', 'Gardening Club'], 'Jude Graham': ['Diversity and Inclusion Club', 'Debate Team', 'Psychology Club'], 'Julian King': ['Astronomy Club', 'Fitness/Health Club', 'Student Council'], 'Kieran Pruitt': ['Fitness/Health Club', 'Math Club'], 'Killian Kent': ['Photography Club', 'Gardening Club'], 'King Ingram': ['Photography Club', 'Technology Club', 'Environmental Club'], 'Kingston Hamilton': ['Technology Club'], 'Lawrence Cervantes': ['National Honor Society'], 'Leo Adams': ['Community Service Club', 'Technology Club'], 'Leon Kirk': ['Community Service Club'], 'Levi Mitchell': ['Photography Club', 'Chess Team', 'Environmental Club', 'Astronomy Club'], 'Lincoln Peterson': ['Photography Club', 'Chess Club'], 'Logan Lewis': ['Photography Club'], 'Lorenzo Woods': ['Chess Team', 'Photography Club'], 'Lucian Wu': ['Photography Club'], 'Lucius Franco': ['Film Club', 'Photography Club'], 'Luke Phillips': ['National Honor Society', 'Chess Team', 'Environmental Club'], 'Malcolm Knox': ['Community Service Club', 'Student Council'], 'Malik Cortez': ['Debate Team', 'Fitness/Health Club', 'Math Club'], 'Marcellus Tovar': ['Gardening Club', 'Fitness/Health Club'], 'Marcus Hughes': ['Fitness/Health Club', 'Student Council', 'Debate Club'], 'Mateo Ramirez': ['Diversity and Inclusion Club'], 'Matthew Martin': ['Community Service Club', 'Math Club', 'National Honor Society'], 'Maximus Cole': ['Community Service Club'], 'Maxwell Richardson': ['Diversity and Inclusion Club', 'Film Club'], 'Miguel Jordan': ['Creative Writing Club', 'Photography Club'], 'Nathan Allen': ['Diversity and Inclusion Club', 'Technology Club'], 'Nikolai Weeks': ['National Honor Society'], 'Noah Johnson': ['Photography Club', 'History Club', 'Drama Club', 'National Honor Society'], 'Nolan Morgan': ['Photography Club', 'Gardening Club'], 'Oscar Reynolds': ['Community Service Club'], 'Owen Hernandez': ['Photography Club'], 'Peter Alexander': ['Dance Club'], 'Raphael Barron': ['Fitness/Health Club'], 'Rhett Barton': ['Chess Team', 'Environmental Club', 'Diversity and Inclusion Club', 'Gardening Club'], 'River Ellis': ['Astronomy Club'], 'Roman Simmons': ['Community Service Club', 'Math Club'], 'Ronald Salazar': ['Fitness/Health Club', 'Math Club'], 'Rory Briggs': ['Community Service Club'], 'Ryan Hall': ['Gardening Club', 'National Honor Society', 'Community Service Club'], 'Samuel Harris': ['Community Service Club', 'Student Council', 'Psychology Club'], 'Sebastian Gonzalez': ['National Honor Society', 'Chess Team'], 'Silas Jenkins': ['Debate Team', 'Community Service Club'], 'Simon Cline': ['Technology Club', 'National Honor Society', 'Fitness/Health Club', 'Math Club', 'Gardening Club'], 'Spencer Woodward': ['Student Council'], 'Sterling Hickman': ['Debate Team', 'Fitness/Health Club', 'Astronomy Club'], 'Thaddeus Noble': ['Fitness/Health Club', 'Gardening Club'], 'Thomas Carter': ['Photography Club'], 'Titus Serrano': ['Yoga Club'], 'Tobias Tanner': ['Community Service Club'], 'Tristan James': ['Community Service Club', 'Psychology Club'], 'Tucker Castro': ['Community Service Club'], 'Victor Hodge': ['Photography Club'], 'Walter Kim': ['Fitness/Health Club', 'Math Club'], 'Wesley Long': ['Debate Team'], 'William Thomas': ['National Honor Society', 'Astronomy Club', 'Environmental Club', 'Chess Team'], 'Winston Bruce': ['National Honor Society'], 'Wyatt Green': ['Photography Club', 'Student Council'], 'Xavier Bryant': ['National Honor Society', 'Psychology Club'], 'Zander Buchanan': ['Astronomy Club', 'Environmental Club', 'Photography Club'], 'Zane Pena': ['Photography Club', 'Chess Team', 'Astronomy Club', 'Environmental Club'], 'Zayden Coleman': ['Astronomy Club', 'Photography Club', 'Environmental Club', 'Student Council'], 'Zayn Gould': ['Fitness/Health Club', 'Gardening Club']}\n"
     ]
    }
   ],
   "source": [
    "activities = pd.read_excel(file_path, sheet_name=\"net_affiliation_0_SchoolActivit\")\n",
    "participants = pd.read_excel(file_path, sheet_name=\"participants\")\n",
    "KeepColumns = ['Participant-ID', 'First-Name', 'Last-Name']\n",
    "participants = participants[KeepColumns]\n",
    "participants['Name'] = participants['First-Name'] + ' ' + participants['Last-Name']\n",
    "## ID to Name Mapping for participants\n",
    "IDtoName = participants.set_index('Participant-ID')['Name'].to_dict()\n",
    "activities.replace(IDtoName, inplace=True)\n",
    "\n",
    "affiliations = pd.read_excel(file_path, sheet_name=\"affiliations\")\n",
    "KeepColumns = ['ID', 'Title']\n",
    "affiliations = affiliations[KeepColumns]\n",
    "## ID to Name Mapping for affiliations\n",
    "IDtoName = affiliations.set_index('ID')['Title'].to_dict()\n",
    "activities.replace(IDtoName, inplace=True)\n",
    "\n",
    "activities_data = activities.groupby('Source')['Target'].apply(list).to_dict()\n",
    "\n",
    "print(activities_data)\n",
    "with open(\"./Answering Questions/Affiliations.json\", \"w\") as file:\n",
    "    json.dump(feedbacks_data, file)\n",
    "\n",
    "\n",
    "## Build a graph from the data. Save graph based on target indegree(higher indegree = bigger brighter node)\n",
    "G = nx.DiGraph() \n",
    "\n",
    "for i in range(len(activities)):\n",
    "    G.add_edge(activities['Source'][i], activities['Target'][i])\n",
    "\n",
    "nt = Network()\n",
    "nt.from_nx(G)\n",
    "\n",
    "nt.save_graph(\"./Layouts/Affiliations.html\")"
   ]
  }
 ],
 "metadata": {
  "kernelspec": {
   "display_name": "Python 3",
   "language": "python",
   "name": "python3"
  },
  "language_info": {
   "codemirror_mode": {
    "name": "ipython",
    "version": 3
   },
   "file_extension": ".py",
   "mimetype": "text/x-python",
   "name": "python",
   "nbconvert_exporter": "python",
   "pygments_lexer": "ipython3",
   "version": "3.11.7"
  }
 },
 "nbformat": 4,
 "nbformat_minor": 2
}
